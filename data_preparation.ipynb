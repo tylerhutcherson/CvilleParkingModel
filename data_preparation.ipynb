{
 "cells": [
  {
   "cell_type": "code",
   "execution_count": null,
   "metadata": {},
   "outputs": [],
   "source": [
    "import re\n",
    "import math\n",
    "import pandas as pd\n",
    "import numpy as np"
   ]
  },
  {
   "cell_type": "code",
   "execution_count": null,
   "metadata": {},
   "outputs": [],
   "source": [
    "tickets = pd.read_csv(\"parking_tickets_historical.csv\")"
   ]
  },
  {
   "cell_type": "code",
   "execution_count": null,
   "metadata": {},
   "outputs": [],
   "source": [
    "permit_addresses = pd.read_csv(\"parking_permit_addresses.csv\")"
   ]
  },
  {
   "cell_type": "code",
   "execution_count": null,
   "metadata": {},
   "outputs": [],
   "source": [
    "tickets.head()"
   ]
  },
  {
   "cell_type": "code",
   "execution_count": null,
   "metadata": {},
   "outputs": [],
   "source": [
    "permit_addresses.head()"
   ]
  },
  {
   "cell_type": "code",
   "execution_count": null,
   "metadata": {},
   "outputs": [],
   "source": [
    "unique_ticket_locations = tickets.drop_duplicates(subset=['latitude', 'longitude'], keep='first')\n",
    "unique_ticket_locations.dropna(subset=['StreetNumber'], inplace=True)"
   ]
  },
  {
   "cell_type": "code",
   "execution_count": null,
   "metadata": {},
   "outputs": [],
   "source": [
    "def remove_alpha(street_num):\n",
    "    return re.sub(\"[^0-9]\", \"\", str(street_num))\n",
    "\n",
    "def convert_to_block_number(street_num):\n",
    "    try:\n",
    "        block = int(math.floor(int(street_num) / 100.0)) * 100\n",
    "        return int(block)\n",
    "    except Exception as e:\n",
    "        try:\n",
    "            block = int(math.floor(int(remove_alpha(street_num)) / 100.0)) * 100\n",
    "            return int(block)\n",
    "        except Exception as e:\n",
    "            print('Attempt Failed:', street_num, type(street_num), e, flush=True)\n",
    "            return 9999"
   ]
  },
  {
   "cell_type": "code",
   "execution_count": null,
   "metadata": {},
   "outputs": [],
   "source": [
    "unique_ticket_locations['BlockNumber'] = unique_ticket_locations['StreetNumber'].apply(lambda x: convert_to_block_number(x))"
   ]
  },
  {
   "cell_type": "code",
   "execution_count": null,
   "metadata": {},
   "outputs": [],
   "source": [
    "unique_ticket_locations_blocks = unique_ticket_locations[(unique_ticket_locations['BlockNumber'] < 5000) & (unique_ticket_locations['BlockNumber'] >= 100)]"
   ]
  },
  {
   "cell_type": "code",
   "execution_count": null,
   "metadata": {},
   "outputs": [],
   "source": []
  },
  {
   "cell_type": "code",
   "execution_count": null,
   "metadata": {},
   "outputs": [],
   "source": []
  },
  {
   "cell_type": "code",
   "execution_count": null,
   "metadata": {},
   "outputs": [],
   "source": []
  },
  {
   "cell_type": "code",
   "execution_count": null,
   "metadata": {},
   "outputs": [],
   "source": []
  },
  {
   "cell_type": "code",
   "execution_count": null,
   "metadata": {},
   "outputs": [],
   "source": []
  }
 ],
 "metadata": {
  "kernelspec": {
   "display_name": "Python 3",
   "language": "python",
   "name": "python3"
  },
  "language_info": {
   "codemirror_mode": {
    "name": "ipython",
    "version": 3
   },
   "file_extension": ".py",
   "mimetype": "text/x-python",
   "name": "python",
   "nbconvert_exporter": "python",
   "pygments_lexer": "ipython3",
   "version": "3.6.5"
  }
 },
 "nbformat": 4,
 "nbformat_minor": 2
}
