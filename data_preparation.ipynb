{
 "cells": [
  {
   "cell_type": "markdown",
   "metadata": {},
   "source": [
    "### Packages"
   ]
  },
  {
   "cell_type": "code",
   "execution_count": 1,
   "metadata": {},
   "outputs": [],
   "source": [
    "import re\n",
    "import math\n",
    "import pandas as pd\n",
    "import numpy as np"
   ]
  },
  {
   "cell_type": "markdown",
   "metadata": {},
   "source": [
    "### Cville Open Data"
   ]
  },
  {
   "cell_type": "code",
   "execution_count": 2,
   "metadata": {},
   "outputs": [
    {
     "name": "stderr",
     "output_type": "stream",
     "text": [
      "/opt/conda/lib/python3.6/site-packages/IPython/core/interactiveshell.py:2785: DtypeWarning: Columns (2,6,8,9) have mixed types. Specify dtype option on import or set low_memory=False.\n",
      "  interactivity=interactivity, compiler=compiler, result=result)\n"
     ]
    }
   ],
   "source": [
    "tickets = pd.read_csv(\"parking_tickets_historical.csv\")"
   ]
  },
  {
   "cell_type": "code",
   "execution_count": 3,
   "metadata": {},
   "outputs": [
    {
     "data": {
      "text/plain": [
       "(435303, 20)"
      ]
     },
     "execution_count": 3,
     "metadata": {},
     "output_type": "execute_result"
    }
   ],
   "source": [
    "tickets.shape"
   ]
  },
  {
   "cell_type": "code",
   "execution_count": 4,
   "metadata": {},
   "outputs": [
    {
     "data": {
      "text/html": [
       "<div>\n",
       "<style scoped>\n",
       "    .dataframe tbody tr th:only-of-type {\n",
       "        vertical-align: middle;\n",
       "    }\n",
       "\n",
       "    .dataframe tbody tr th {\n",
       "        vertical-align: top;\n",
       "    }\n",
       "\n",
       "    .dataframe thead th {\n",
       "        text-align: right;\n",
       "    }\n",
       "</style>\n",
       "<table border=\"1\" class=\"dataframe\">\n",
       "  <thead>\n",
       "    <tr style=\"text-align: right;\">\n",
       "      <th></th>\n",
       "      <th>Index</th>\n",
       "      <th>RecordID</th>\n",
       "      <th>TicketNumber</th>\n",
       "      <th>DateIssued</th>\n",
       "      <th>StreetName</th>\n",
       "      <th>TimeIssued</th>\n",
       "      <th>StreetNumber</th>\n",
       "      <th>LicenseState</th>\n",
       "      <th>WaiverRequestDate</th>\n",
       "      <th>WaiverGrantedDate</th>\n",
       "      <th>AppealDate</th>\n",
       "      <th>AppealGrantedDate</th>\n",
       "      <th>ViolationDescription</th>\n",
       "      <th>AppealStatus</th>\n",
       "      <th>Location</th>\n",
       "      <th>LicensePlateAnon</th>\n",
       "      <th>newlocation</th>\n",
       "      <th>input_string</th>\n",
       "      <th>latitude</th>\n",
       "      <th>longitude</th>\n",
       "    </tr>\n",
       "  </thead>\n",
       "  <tbody>\n",
       "    <tr>\n",
       "      <th>0</th>\n",
       "      <td>0</td>\n",
       "      <td>3001</td>\n",
       "      <td>185322</td>\n",
       "      <td>2016-04-27T11:45:05.000Z</td>\n",
       "      <td>7TH ST NE</td>\n",
       "      <td>11:45</td>\n",
       "      <td>400</td>\n",
       "      <td>VA</td>\n",
       "      <td>NaN</td>\n",
       "      <td>NaN</td>\n",
       "      <td>NaN</td>\n",
       "      <td>NaN</td>\n",
       "      <td>Overtime Parking</td>\n",
       "      <td>NaN</td>\n",
       "      <td>400 7TH ST NE</td>\n",
       "      <td>106713</td>\n",
       "      <td>400 7TH ST NE Charlottesville, VA</td>\n",
       "      <td>400 7TH ST NE Charlottesville, VA</td>\n",
       "      <td>38.031652</td>\n",
       "      <td>-78.475925</td>\n",
       "    </tr>\n",
       "    <tr>\n",
       "      <th>1</th>\n",
       "      <td>1</td>\n",
       "      <td>3094</td>\n",
       "      <td>185414</td>\n",
       "      <td>2016-04-27T13:57:39.000Z</td>\n",
       "      <td>7TH ST NE</td>\n",
       "      <td>13:57</td>\n",
       "      <td>400</td>\n",
       "      <td>VA</td>\n",
       "      <td>NaN</td>\n",
       "      <td>NaN</td>\n",
       "      <td>NaN</td>\n",
       "      <td>NaN</td>\n",
       "      <td>Void</td>\n",
       "      <td>NaN</td>\n",
       "      <td>400 7TH ST NE</td>\n",
       "      <td>135871</td>\n",
       "      <td>400 7TH ST NE Charlottesville, VA</td>\n",
       "      <td>400 7TH ST NE Charlottesville, VA</td>\n",
       "      <td>38.031652</td>\n",
       "      <td>-78.475925</td>\n",
       "    </tr>\n",
       "    <tr>\n",
       "      <th>2</th>\n",
       "      <td>2</td>\n",
       "      <td>3136</td>\n",
       "      <td>185462</td>\n",
       "      <td>2016-04-28T13:05:44.000Z</td>\n",
       "      <td>7TH ST NE</td>\n",
       "      <td>13:05</td>\n",
       "      <td>400</td>\n",
       "      <td>VA</td>\n",
       "      <td>NaN</td>\n",
       "      <td>NaN</td>\n",
       "      <td>NaN</td>\n",
       "      <td>NaN</td>\n",
       "      <td>Overtime Parking</td>\n",
       "      <td>NaN</td>\n",
       "      <td>400 7TH ST NE</td>\n",
       "      <td>110072</td>\n",
       "      <td>400 7TH ST NE Charlottesville, VA</td>\n",
       "      <td>400 7TH ST NE Charlottesville, VA</td>\n",
       "      <td>38.031652</td>\n",
       "      <td>-78.475925</td>\n",
       "    </tr>\n",
       "    <tr>\n",
       "      <th>3</th>\n",
       "      <td>3</td>\n",
       "      <td>3137</td>\n",
       "      <td>185463</td>\n",
       "      <td>2016-04-28T13:06:43.000Z</td>\n",
       "      <td>7TH ST NE</td>\n",
       "      <td>13:06</td>\n",
       "      <td>400</td>\n",
       "      <td>VA</td>\n",
       "      <td>NaN</td>\n",
       "      <td>NaN</td>\n",
       "      <td>NaN</td>\n",
       "      <td>NaN</td>\n",
       "      <td>Overtime Parking</td>\n",
       "      <td>NaN</td>\n",
       "      <td>400 7TH ST NE</td>\n",
       "      <td>132625</td>\n",
       "      <td>400 7TH ST NE Charlottesville, VA</td>\n",
       "      <td>400 7TH ST NE Charlottesville, VA</td>\n",
       "      <td>38.031652</td>\n",
       "      <td>-78.475925</td>\n",
       "    </tr>\n",
       "    <tr>\n",
       "      <th>4</th>\n",
       "      <td>4</td>\n",
       "      <td>3614</td>\n",
       "      <td>185970</td>\n",
       "      <td>2016-05-05T12:33:21.000Z</td>\n",
       "      <td>7TH ST NE</td>\n",
       "      <td>12:33</td>\n",
       "      <td>400</td>\n",
       "      <td>VA</td>\n",
       "      <td>NaN</td>\n",
       "      <td>NaN</td>\n",
       "      <td>NaN</td>\n",
       "      <td>NaN</td>\n",
       "      <td>Overtime Parking</td>\n",
       "      <td>NaN</td>\n",
       "      <td>400 7TH ST NE</td>\n",
       "      <td>71445</td>\n",
       "      <td>400 7TH ST NE Charlottesville, VA</td>\n",
       "      <td>400 7TH ST NE Charlottesville, VA</td>\n",
       "      <td>38.031652</td>\n",
       "      <td>-78.475925</td>\n",
       "    </tr>\n",
       "  </tbody>\n",
       "</table>\n",
       "</div>"
      ],
      "text/plain": [
       "   Index  RecordID TicketNumber                DateIssued StreetName  \\\n",
       "0      0      3001       185322  2016-04-27T11:45:05.000Z  7TH ST NE   \n",
       "1      1      3094       185414  2016-04-27T13:57:39.000Z  7TH ST NE   \n",
       "2      2      3136       185462  2016-04-28T13:05:44.000Z  7TH ST NE   \n",
       "3      3      3137       185463  2016-04-28T13:06:43.000Z  7TH ST NE   \n",
       "4      4      3614       185970  2016-05-05T12:33:21.000Z  7TH ST NE   \n",
       "\n",
       "  TimeIssued StreetNumber LicenseState WaiverRequestDate WaiverGrantedDate  \\\n",
       "0      11:45          400           VA               NaN               NaN   \n",
       "1      13:57          400           VA               NaN               NaN   \n",
       "2      13:05          400           VA               NaN               NaN   \n",
       "3      13:06          400           VA               NaN               NaN   \n",
       "4      12:33          400           VA               NaN               NaN   \n",
       "\n",
       "  AppealDate AppealGrantedDate ViolationDescription AppealStatus  \\\n",
       "0        NaN               NaN     Overtime Parking          NaN   \n",
       "1        NaN               NaN                 Void          NaN   \n",
       "2        NaN               NaN     Overtime Parking          NaN   \n",
       "3        NaN               NaN     Overtime Parking          NaN   \n",
       "4        NaN               NaN     Overtime Parking          NaN   \n",
       "\n",
       "        Location  LicensePlateAnon                        newlocation  \\\n",
       "0  400 7TH ST NE            106713  400 7TH ST NE Charlottesville, VA   \n",
       "1  400 7TH ST NE            135871  400 7TH ST NE Charlottesville, VA   \n",
       "2  400 7TH ST NE            110072  400 7TH ST NE Charlottesville, VA   \n",
       "3  400 7TH ST NE            132625  400 7TH ST NE Charlottesville, VA   \n",
       "4  400 7TH ST NE             71445  400 7TH ST NE Charlottesville, VA   \n",
       "\n",
       "                        input_string   latitude  longitude  \n",
       "0  400 7TH ST NE Charlottesville, VA  38.031652 -78.475925  \n",
       "1  400 7TH ST NE Charlottesville, VA  38.031652 -78.475925  \n",
       "2  400 7TH ST NE Charlottesville, VA  38.031652 -78.475925  \n",
       "3  400 7TH ST NE Charlottesville, VA  38.031652 -78.475925  \n",
       "4  400 7TH ST NE Charlottesville, VA  38.031652 -78.475925  "
      ]
     },
     "execution_count": 4,
     "metadata": {},
     "output_type": "execute_result"
    }
   ],
   "source": [
    "tickets.head()"
   ]
  },
  {
   "cell_type": "markdown",
   "metadata": {},
   "source": [
    "### Coding Datetime, City Block"
   ]
  },
  {
   "cell_type": "code",
   "execution_count": 5,
   "metadata": {},
   "outputs": [
    {
     "data": {
      "text/plain": [
       "datetime.datetime(2016, 4, 27, 11, 45, 5)"
      ]
     },
     "execution_count": 5,
     "metadata": {},
     "output_type": "execute_result"
    }
   ],
   "source": [
    "from datetime import datetime\n",
    "#date_string = tickets.DateIssued[0]\n",
    "#datetime.strptime(date_string, \"%Y-%m-%dT%H:%M:%S.%fZ\")"
   ]
  },
  {
   "cell_type": "code",
   "execution_count": 6,
   "metadata": {},
   "outputs": [
    {
     "name": "stderr",
     "output_type": "stream",
     "text": [
      "/opt/conda/lib/python3.6/site-packages/ipykernel_launcher.py:2: SettingWithCopyWarning: \n",
      "A value is trying to be set on a copy of a slice from a DataFrame\n",
      "\n",
      "See the caveats in the documentation: http://pandas.pydata.org/pandas-docs/stable/indexing.html#indexing-view-versus-copy\n",
      "  \n"
     ]
    }
   ],
   "source": [
    "unique_ticket_locations = tickets.drop_duplicates(subset=['latitude', 'longitude'], keep='first')\n",
    "unique_ticket_locations.dropna(subset=['StreetNumber'], inplace=True)"
   ]
  },
  {
   "cell_type": "code",
   "execution_count": 7,
   "metadata": {},
   "outputs": [],
   "source": [
    "def remove_alpha(street_num):\n",
    "    return re.sub(\"[^0-9]\", \"\", str(street_num))\n",
    "\n",
    "def convert_to_block_number(street_num):\n",
    "    try:\n",
    "        block = int(math.floor(int(street_num) / 100.0)) * 100\n",
    "        return int(block)\n",
    "    except Exception as e:\n",
    "        try:\n",
    "            block = int(math.floor(int(remove_alpha(street_num)) / 100.0)) * 100\n",
    "            return int(block)\n",
    "        except Exception as e:\n",
    "            print('Attempt Failed:', street_num, type(street_num), e, flush=True)\n",
    "            return 9999"
   ]
  },
  {
   "cell_type": "code",
   "execution_count": 8,
   "metadata": {},
   "outputs": [
    {
     "name": "stdout",
     "output_type": "stream",
     "text": [
      "Attempt Failed:            <class 'str'> invalid literal for int() with base 10: ''\n",
      "Attempt Failed:            <class 'str'> invalid literal for int() with base 10: ''\n",
      "Attempt Failed:            <class 'str'> invalid literal for int() with base 10: ''\n",
      "Attempt Failed:            <class 'str'> invalid literal for int() with base 10: ''\n",
      "Attempt Failed:            <class 'str'> invalid literal for int() with base 10: ''\n",
      "Attempt Failed:            <class 'str'> invalid literal for int() with base 10: ''\n",
      "Attempt Failed:            <class 'str'> invalid literal for int() with base 10: ''\n",
      "Attempt Failed:            <class 'str'> invalid literal for int() with base 10: ''\n",
      "Attempt Failed:            <class 'str'> invalid literal for int() with base 10: ''\n",
      "Attempt Failed:            <class 'str'> invalid literal for int() with base 10: ''\n",
      "Attempt Failed:            <class 'str'> invalid literal for int() with base 10: ''\n",
      "Attempt Failed:            <class 'str'> invalid literal for int() with base 10: ''\n",
      "Attempt Failed:            <class 'str'> invalid literal for int() with base 10: ''\n",
      "Attempt Failed:            <class 'str'> invalid literal for int() with base 10: ''\n",
      "Attempt Failed:            <class 'str'> invalid literal for int() with base 10: ''\n",
      "Attempt Failed:            <class 'str'> invalid literal for int() with base 10: ''\n",
      "Attempt Failed:            <class 'str'> invalid literal for int() with base 10: ''\n",
      "Attempt Failed:            <class 'str'> invalid literal for int() with base 10: ''\n",
      "Attempt Failed:            <class 'str'> invalid literal for int() with base 10: ''\n",
      "Attempt Failed:            <class 'str'> invalid literal for int() with base 10: ''\n",
      "Attempt Failed:            <class 'str'> invalid literal for int() with base 10: ''\n",
      "Attempt Failed:            <class 'str'> invalid literal for int() with base 10: ''\n",
      "Attempt Failed:            <class 'str'> invalid literal for int() with base 10: ''\n",
      "Attempt Failed:            <class 'str'> invalid literal for int() with base 10: ''\n",
      "Attempt Failed:            <class 'str'> invalid literal for int() with base 10: ''\n",
      "Attempt Failed:            <class 'str'> invalid literal for int() with base 10: ''\n",
      "Attempt Failed:            <class 'str'> invalid literal for int() with base 10: ''\n",
      "Attempt Failed:            <class 'str'> invalid literal for int() with base 10: ''\n",
      "Attempt Failed:            <class 'str'> invalid literal for int() with base 10: ''\n",
      "Attempt Failed:            <class 'str'> invalid literal for int() with base 10: ''\n",
      "Attempt Failed:            <class 'str'> invalid literal for int() with base 10: ''\n",
      "Attempt Failed:            <class 'str'> invalid literal for int() with base 10: ''\n",
      "Attempt Failed:            <class 'str'> invalid literal for int() with base 10: ''\n",
      "Attempt Failed:            <class 'str'> invalid literal for int() with base 10: ''\n",
      "Attempt Failed:            <class 'str'> invalid literal for int() with base 10: ''\n",
      "Attempt Failed:            <class 'str'> invalid literal for int() with base 10: ''\n",
      "Attempt Failed:            <class 'str'> invalid literal for int() with base 10: ''\n",
      "Attempt Failed:            <class 'str'> invalid literal for int() with base 10: ''\n",
      "Attempt Failed:            <class 'str'> invalid literal for int() with base 10: ''\n",
      "Attempt Failed:            <class 'str'> invalid literal for int() with base 10: ''\n",
      "Attempt Failed:            <class 'str'> invalid literal for int() with base 10: ''\n",
      "Attempt Failed:            <class 'str'> invalid literal for int() with base 10: ''\n",
      "Attempt Failed:            <class 'str'> invalid literal for int() with base 10: ''\n",
      "Attempt Failed:            <class 'str'> invalid literal for int() with base 10: ''\n",
      "Attempt Failed:            <class 'str'> invalid literal for int() with base 10: ''\n",
      "Attempt Failed:            <class 'str'> invalid literal for int() with base 10: ''\n",
      "Attempt Failed:            <class 'str'> invalid literal for int() with base 10: ''\n",
      "Attempt Failed:            <class 'str'> invalid literal for int() with base 10: ''\n",
      "Attempt Failed:            <class 'str'> invalid literal for int() with base 10: ''\n",
      "Attempt Failed:            <class 'str'> invalid literal for int() with base 10: ''\n",
      "Attempt Failed:            <class 'str'> invalid literal for int() with base 10: ''\n",
      "Attempt Failed:            <class 'str'> invalid literal for int() with base 10: ''\n",
      "Attempt Failed:            <class 'str'> invalid literal for int() with base 10: ''\n",
      "Attempt Failed:            <class 'str'> invalid literal for int() with base 10: ''\n",
      "Attempt Failed:            <class 'str'> invalid literal for int() with base 10: ''\n"
     ]
    },
    {
     "name": "stderr",
     "output_type": "stream",
     "text": [
      "/opt/conda/lib/python3.6/site-packages/ipykernel_launcher.py:1: SettingWithCopyWarning: \n",
      "A value is trying to be set on a copy of a slice from a DataFrame.\n",
      "Try using .loc[row_indexer,col_indexer] = value instead\n",
      "\n",
      "See the caveats in the documentation: http://pandas.pydata.org/pandas-docs/stable/indexing.html#indexing-view-versus-copy\n",
      "  \"\"\"Entry point for launching an IPython kernel.\n"
     ]
    }
   ],
   "source": [
    "unique_ticket_locations['BlockNumber'] = unique_ticket_locations['StreetNumber'].apply(lambda x: convert_to_block_number(x))"
   ]
  },
  {
   "cell_type": "code",
   "execution_count": 9,
   "metadata": {},
   "outputs": [],
   "source": [
    "unique_ticket_locations_blocks = unique_ticket_locations[(unique_ticket_locations['BlockNumber'] < 5000) & (unique_ticket_locations['BlockNumber'] >= 100)]"
   ]
  },
  {
   "cell_type": "code",
   "execution_count": 10,
   "metadata": {},
   "outputs": [
    {
     "name": "stderr",
     "output_type": "stream",
     "text": [
      "/opt/conda/lib/python3.6/site-packages/ipykernel_launcher.py:1: SettingWithCopyWarning: \n",
      "A value is trying to be set on a copy of a slice from a DataFrame.\n",
      "Try using .loc[row_indexer,col_indexer] = value instead\n",
      "\n",
      "See the caveats in the documentation: http://pandas.pydata.org/pandas-docs/stable/indexing.html#indexing-view-versus-copy\n",
      "  \"\"\"Entry point for launching an IPython kernel.\n"
     ]
    }
   ],
   "source": [
    "unique_ticket_locations_blocks['DT'] = unique_ticket_locations['DateIssued'].apply(lambda x: datetime.strptime(x, \"%Y-%m-%dT%H:%M:%S.%fZ\"))"
   ]
  },
  {
   "cell_type": "code",
   "execution_count": 11,
   "metadata": {},
   "outputs": [],
   "source": [
    "t = pd.date_range(\"00:00\", \"23:00\", freq=\"60min\").time"
   ]
  },
  {
   "cell_type": "code",
   "execution_count": 12,
   "metadata": {},
   "outputs": [],
   "source": [
    "d = pd.date_range(\"01/01/18\",\"12/31/18\")"
   ]
  },
  {
   "cell_type": "markdown",
   "metadata": {},
   "source": [
    "### Unique Blocks in the Data"
   ]
  },
  {
   "cell_type": "code",
   "execution_count": 13,
   "metadata": {},
   "outputs": [
    {
     "name": "stderr",
     "output_type": "stream",
     "text": [
      "/opt/conda/lib/python3.6/site-packages/ipykernel_launcher.py:2: SettingWithCopyWarning: \n",
      "A value is trying to be set on a copy of a slice from a DataFrame\n",
      "\n",
      "See the caveats in the documentation: http://pandas.pydata.org/pandas-docs/stable/indexing.html#indexing-view-versus-copy\n",
      "  \n"
     ]
    },
    {
     "data": {
      "text/plain": [
       "(3196, 2)"
      ]
     },
     "execution_count": 13,
     "metadata": {},
     "output_type": "execute_result"
    }
   ],
   "source": [
    "b = unique_ticket_locations_blocks[['BlockNumber','StreetName']]\n",
    "b.drop_duplicates(inplace = True)\n",
    "b.shape"
   ]
  },
  {
   "cell_type": "code",
   "execution_count": 14,
   "metadata": {},
   "outputs": [
    {
     "name": "stderr",
     "output_type": "stream",
     "text": [
      "/opt/conda/lib/python3.6/site-packages/ipykernel_launcher.py:1: SettingWithCopyWarning: \n",
      "A value is trying to be set on a copy of a slice from a DataFrame.\n",
      "Try using .loc[row_indexer,col_indexer] = value instead\n",
      "\n",
      "See the caveats in the documentation: http://pandas.pydata.org/pandas-docs/stable/indexing.html#indexing-view-versus-copy\n",
      "  \"\"\"Entry point for launching an IPython kernel.\n"
     ]
    },
    {
     "data": {
      "text/html": [
       "<div>\n",
       "<style scoped>\n",
       "    .dataframe tbody tr th:only-of-type {\n",
       "        vertical-align: middle;\n",
       "    }\n",
       "\n",
       "    .dataframe tbody tr th {\n",
       "        vertical-align: top;\n",
       "    }\n",
       "\n",
       "    .dataframe thead th {\n",
       "        text-align: right;\n",
       "    }\n",
       "</style>\n",
       "<table border=\"1\" class=\"dataframe\">\n",
       "  <thead>\n",
       "    <tr style=\"text-align: right;\">\n",
       "      <th></th>\n",
       "      <th>Index</th>\n",
       "      <th>RecordID</th>\n",
       "      <th>TicketNumber</th>\n",
       "      <th>DateIssued</th>\n",
       "      <th>StreetName</th>\n",
       "      <th>TimeIssued</th>\n",
       "      <th>StreetNumber</th>\n",
       "      <th>LicenseState</th>\n",
       "      <th>WaiverRequestDate</th>\n",
       "      <th>WaiverGrantedDate</th>\n",
       "      <th>...</th>\n",
       "      <th>AppealStatus</th>\n",
       "      <th>Location</th>\n",
       "      <th>LicensePlateAnon</th>\n",
       "      <th>newlocation</th>\n",
       "      <th>input_string</th>\n",
       "      <th>latitude</th>\n",
       "      <th>longitude</th>\n",
       "      <th>BlockNumber</th>\n",
       "      <th>DT</th>\n",
       "      <th>block</th>\n",
       "    </tr>\n",
       "  </thead>\n",
       "  <tbody>\n",
       "    <tr>\n",
       "      <th>0</th>\n",
       "      <td>0</td>\n",
       "      <td>3001</td>\n",
       "      <td>185322</td>\n",
       "      <td>2016-04-27T11:45:05.000Z</td>\n",
       "      <td>7TH ST NE</td>\n",
       "      <td>11:45</td>\n",
       "      <td>400</td>\n",
       "      <td>VA</td>\n",
       "      <td>NaN</td>\n",
       "      <td>NaN</td>\n",
       "      <td>...</td>\n",
       "      <td>NaN</td>\n",
       "      <td>400 7TH ST NE</td>\n",
       "      <td>106713</td>\n",
       "      <td>400 7TH ST NE Charlottesville, VA</td>\n",
       "      <td>400 7TH ST NE Charlottesville, VA</td>\n",
       "      <td>38.031652</td>\n",
       "      <td>-78.475925</td>\n",
       "      <td>400</td>\n",
       "      <td>2016-04-27 11:45:05</td>\n",
       "      <td>400 7TH ST NE</td>\n",
       "    </tr>\n",
       "    <tr>\n",
       "      <th>1653</th>\n",
       "      <td>1653</td>\n",
       "      <td>3002</td>\n",
       "      <td>185323</td>\n",
       "      <td>2016-04-27T11:46:05.000Z</td>\n",
       "      <td>7TH ST NE</td>\n",
       "      <td>11:46</td>\n",
       "      <td>100</td>\n",
       "      <td>VA</td>\n",
       "      <td>NaN</td>\n",
       "      <td>NaN</td>\n",
       "      <td>...</td>\n",
       "      <td>denied</td>\n",
       "      <td>100 7TH ST NE</td>\n",
       "      <td>114521</td>\n",
       "      <td>100 7TH ST NE Charlottesville, VA</td>\n",
       "      <td>100 7TH ST NE Charlottesville, VA</td>\n",
       "      <td>38.029756</td>\n",
       "      <td>-78.476534</td>\n",
       "      <td>100</td>\n",
       "      <td>2016-04-27 11:46:05</td>\n",
       "      <td>100 7TH ST NE</td>\n",
       "    </tr>\n",
       "    <tr>\n",
       "      <th>2601</th>\n",
       "      <td>2601</td>\n",
       "      <td>3003</td>\n",
       "      <td>185324</td>\n",
       "      <td>2016-04-27T11:49:39.000Z</td>\n",
       "      <td>8TH ST NE</td>\n",
       "      <td>11:49</td>\n",
       "      <td>200</td>\n",
       "      <td>VA</td>\n",
       "      <td>NaN</td>\n",
       "      <td>NaN</td>\n",
       "      <td>...</td>\n",
       "      <td>NaN</td>\n",
       "      <td>200 8TH ST NE</td>\n",
       "      <td>108598</td>\n",
       "      <td>200 8TH ST NE Charlottesville, VA</td>\n",
       "      <td>200 8TH ST NE Charlottesville, VA</td>\n",
       "      <td>38.029934</td>\n",
       "      <td>-78.476060</td>\n",
       "      <td>200</td>\n",
       "      <td>2016-04-27 11:49:39</td>\n",
       "      <td>200 8TH ST NE</td>\n",
       "    </tr>\n",
       "    <tr>\n",
       "      <th>4465</th>\n",
       "      <td>4465</td>\n",
       "      <td>3004</td>\n",
       "      <td>185325</td>\n",
       "      <td>2016-04-27T11:50:59.000Z</td>\n",
       "      <td>PLATEAU RD</td>\n",
       "      <td>11:50</td>\n",
       "      <td>2500</td>\n",
       "      <td>VA</td>\n",
       "      <td>NaN</td>\n",
       "      <td>NaN</td>\n",
       "      <td>...</td>\n",
       "      <td>NaN</td>\n",
       "      <td>2500 PLATEAU RD</td>\n",
       "      <td>125480</td>\n",
       "      <td>2500 PLATEAU RD Charlottesville, VA</td>\n",
       "      <td>2500 PLATEAU RD Charlottesville, VA</td>\n",
       "      <td>38.024968</td>\n",
       "      <td>-78.520717</td>\n",
       "      <td>2500</td>\n",
       "      <td>2016-04-27 11:50:59</td>\n",
       "      <td>2500 PLATEAU RD</td>\n",
       "    </tr>\n",
       "    <tr>\n",
       "      <th>4521</th>\n",
       "      <td>4521</td>\n",
       "      <td>3006</td>\n",
       "      <td>185327</td>\n",
       "      <td>2016-04-27T11:57:08.000Z</td>\n",
       "      <td>5TH ST NE</td>\n",
       "      <td>11:57</td>\n",
       "      <td>200</td>\n",
       "      <td>VA</td>\n",
       "      <td>4/29/16</td>\n",
       "      <td>4/29/16</td>\n",
       "      <td>...</td>\n",
       "      <td>NaN</td>\n",
       "      <td>200 5TH ST NE</td>\n",
       "      <td>39526</td>\n",
       "      <td>200 5TH ST NE Charlottesville, VA</td>\n",
       "      <td>200 5TH ST NE Charlottesville, VA</td>\n",
       "      <td>38.030625</td>\n",
       "      <td>-78.478093</td>\n",
       "      <td>200</td>\n",
       "      <td>2016-04-27 11:57:08</td>\n",
       "      <td>200 5TH ST NE</td>\n",
       "    </tr>\n",
       "  </tbody>\n",
       "</table>\n",
       "<p>5 rows × 23 columns</p>\n",
       "</div>"
      ],
      "text/plain": [
       "      Index  RecordID TicketNumber                DateIssued  StreetName  \\\n",
       "0         0      3001       185322  2016-04-27T11:45:05.000Z   7TH ST NE   \n",
       "1653   1653      3002       185323  2016-04-27T11:46:05.000Z   7TH ST NE   \n",
       "2601   2601      3003       185324  2016-04-27T11:49:39.000Z   8TH ST NE   \n",
       "4465   4465      3004       185325  2016-04-27T11:50:59.000Z  PLATEAU RD   \n",
       "4521   4521      3006       185327  2016-04-27T11:57:08.000Z   5TH ST NE   \n",
       "\n",
       "     TimeIssued StreetNumber LicenseState WaiverRequestDate WaiverGrantedDate  \\\n",
       "0         11:45          400           VA               NaN               NaN   \n",
       "1653      11:46          100           VA               NaN               NaN   \n",
       "2601      11:49          200           VA               NaN               NaN   \n",
       "4465      11:50         2500           VA               NaN               NaN   \n",
       "4521      11:57          200           VA           4/29/16           4/29/16   \n",
       "\n",
       "           ...        AppealStatus         Location LicensePlateAnon  \\\n",
       "0          ...                 NaN    400 7TH ST NE           106713   \n",
       "1653       ...              denied    100 7TH ST NE           114521   \n",
       "2601       ...                 NaN    200 8TH ST NE           108598   \n",
       "4465       ...                 NaN  2500 PLATEAU RD           125480   \n",
       "4521       ...                 NaN    200 5TH ST NE            39526   \n",
       "\n",
       "                              newlocation  \\\n",
       "0       400 7TH ST NE Charlottesville, VA   \n",
       "1653    100 7TH ST NE Charlottesville, VA   \n",
       "2601    200 8TH ST NE Charlottesville, VA   \n",
       "4465  2500 PLATEAU RD Charlottesville, VA   \n",
       "4521    200 5TH ST NE Charlottesville, VA   \n",
       "\n",
       "                             input_string   latitude  longitude BlockNumber  \\\n",
       "0       400 7TH ST NE Charlottesville, VA  38.031652 -78.475925         400   \n",
       "1653    100 7TH ST NE Charlottesville, VA  38.029756 -78.476534         100   \n",
       "2601    200 8TH ST NE Charlottesville, VA  38.029934 -78.476060         200   \n",
       "4465  2500 PLATEAU RD Charlottesville, VA  38.024968 -78.520717        2500   \n",
       "4521    200 5TH ST NE Charlottesville, VA  38.030625 -78.478093         200   \n",
       "\n",
       "                      DT            block  \n",
       "0    2016-04-27 11:45:05    400 7TH ST NE  \n",
       "1653 2016-04-27 11:46:05    100 7TH ST NE  \n",
       "2601 2016-04-27 11:49:39    200 8TH ST NE  \n",
       "4465 2016-04-27 11:50:59  2500 PLATEAU RD  \n",
       "4521 2016-04-27 11:57:08    200 5TH ST NE  \n",
       "\n",
       "[5 rows x 23 columns]"
      ]
     },
     "execution_count": 14,
     "metadata": {},
     "output_type": "execute_result"
    }
   ],
   "source": [
    "unique_ticket_locations_blocks['block'] = unique_ticket_locations_blocks[\"BlockNumber\"].map(str) + \" \" + unique_ticket_locations_blocks[\"StreetName\"]\n",
    "unique_ticket_locations_blocks.head()"
   ]
  },
  {
   "cell_type": "code",
   "execution_count": 15,
   "metadata": {},
   "outputs": [
    {
     "name": "stderr",
     "output_type": "stream",
     "text": [
      "/opt/conda/lib/python3.6/site-packages/ipykernel_launcher.py:1: SettingWithCopyWarning: \n",
      "A value is trying to be set on a copy of a slice from a DataFrame.\n",
      "Try using .loc[row_indexer,col_indexer] = value instead\n",
      "\n",
      "See the caveats in the documentation: http://pandas.pydata.org/pandas-docs/stable/indexing.html#indexing-view-versus-copy\n",
      "  \"\"\"Entry point for launching an IPython kernel.\n",
      "/opt/conda/lib/python3.6/site-packages/ipykernel_launcher.py:2: SettingWithCopyWarning: \n",
      "A value is trying to be set on a copy of a slice from a DataFrame.\n",
      "Try using .loc[row_indexer,col_indexer] = value instead\n",
      "\n",
      "See the caveats in the documentation: http://pandas.pydata.org/pandas-docs/stable/indexing.html#indexing-view-versus-copy\n",
      "  \n"
     ]
    },
    {
     "data": {
      "text/html": [
       "<div>\n",
       "<style scoped>\n",
       "    .dataframe tbody tr th:only-of-type {\n",
       "        vertical-align: middle;\n",
       "    }\n",
       "\n",
       "    .dataframe tbody tr th {\n",
       "        vertical-align: top;\n",
       "    }\n",
       "\n",
       "    .dataframe thead th {\n",
       "        text-align: right;\n",
       "    }\n",
       "</style>\n",
       "<table border=\"1\" class=\"dataframe\">\n",
       "  <thead>\n",
       "    <tr style=\"text-align: right;\">\n",
       "      <th></th>\n",
       "      <th>BlockNumber</th>\n",
       "      <th>StreetName</th>\n",
       "      <th>block</th>\n",
       "      <th>bI</th>\n",
       "    </tr>\n",
       "  </thead>\n",
       "  <tbody>\n",
       "    <tr>\n",
       "      <th>0</th>\n",
       "      <td>400</td>\n",
       "      <td>7TH ST NE</td>\n",
       "      <td>400 7TH ST NE</td>\n",
       "      <td>0</td>\n",
       "    </tr>\n",
       "    <tr>\n",
       "      <th>1653</th>\n",
       "      <td>100</td>\n",
       "      <td>7TH ST NE</td>\n",
       "      <td>100 7TH ST NE</td>\n",
       "      <td>1</td>\n",
       "    </tr>\n",
       "    <tr>\n",
       "      <th>2601</th>\n",
       "      <td>200</td>\n",
       "      <td>8TH ST NE</td>\n",
       "      <td>200 8TH ST NE</td>\n",
       "      <td>2</td>\n",
       "    </tr>\n",
       "    <tr>\n",
       "      <th>4465</th>\n",
       "      <td>2500</td>\n",
       "      <td>PLATEAU RD</td>\n",
       "      <td>2500 PLATEAU RD</td>\n",
       "      <td>3</td>\n",
       "    </tr>\n",
       "    <tr>\n",
       "      <th>4521</th>\n",
       "      <td>200</td>\n",
       "      <td>5TH ST NE</td>\n",
       "      <td>200 5TH ST NE</td>\n",
       "      <td>4</td>\n",
       "    </tr>\n",
       "  </tbody>\n",
       "</table>\n",
       "</div>"
      ],
      "text/plain": [
       "      BlockNumber  StreetName            block  bI\n",
       "0             400   7TH ST NE    400 7TH ST NE   0\n",
       "1653          100   7TH ST NE    100 7TH ST NE   1\n",
       "2601          200   8TH ST NE    200 8TH ST NE   2\n",
       "4465         2500  PLATEAU RD  2500 PLATEAU RD   3\n",
       "4521          200   5TH ST NE    200 5TH ST NE   4"
      ]
     },
     "execution_count": 15,
     "metadata": {},
     "output_type": "execute_result"
    }
   ],
   "source": [
    "b['block'] = b[\"BlockNumber\"].map(str) + \" \" + b[\"StreetName\"]\n",
    "b['bI'] = range(b.shape[0])\n",
    "b.head()"
   ]
  },
  {
   "cell_type": "code",
   "execution_count": 16,
   "metadata": {},
   "outputs": [
    {
     "name": "stderr",
     "output_type": "stream",
     "text": [
      "/opt/conda/lib/python3.6/site-packages/pandas/core/generic.py:4405: SettingWithCopyWarning: \n",
      "A value is trying to be set on a copy of a slice from a DataFrame.\n",
      "Try using .loc[row_indexer,col_indexer] = value instead\n",
      "\n",
      "See the caveats in the documentation: http://pandas.pydata.org/pandas-docs/stable/indexing.html#indexing-view-versus-copy\n",
      "  self[name] = value\n"
     ]
    },
    {
     "data": {
      "text/html": [
       "<div>\n",
       "<style scoped>\n",
       "    .dataframe tbody tr th:only-of-type {\n",
       "        vertical-align: middle;\n",
       "    }\n",
       "\n",
       "    .dataframe tbody tr th {\n",
       "        vertical-align: top;\n",
       "    }\n",
       "\n",
       "    .dataframe thead th {\n",
       "        text-align: right;\n",
       "    }\n",
       "</style>\n",
       "<table border=\"1\" class=\"dataframe\">\n",
       "  <thead>\n",
       "    <tr style=\"text-align: right;\">\n",
       "      <th></th>\n",
       "      <th>BlockNumber</th>\n",
       "      <th>StreetName</th>\n",
       "      <th>block</th>\n",
       "      <th>bI</th>\n",
       "    </tr>\n",
       "  </thead>\n",
       "  <tbody>\n",
       "    <tr>\n",
       "      <th>0</th>\n",
       "      <td>400</td>\n",
       "      <td>7TH ST NE</td>\n",
       "      <td>400 7TH ST NE</td>\n",
       "      <td>B0</td>\n",
       "    </tr>\n",
       "    <tr>\n",
       "      <th>1653</th>\n",
       "      <td>100</td>\n",
       "      <td>7TH ST NE</td>\n",
       "      <td>100 7TH ST NE</td>\n",
       "      <td>B1</td>\n",
       "    </tr>\n",
       "    <tr>\n",
       "      <th>2601</th>\n",
       "      <td>200</td>\n",
       "      <td>8TH ST NE</td>\n",
       "      <td>200 8TH ST NE</td>\n",
       "      <td>B2</td>\n",
       "    </tr>\n",
       "    <tr>\n",
       "      <th>4465</th>\n",
       "      <td>2500</td>\n",
       "      <td>PLATEAU RD</td>\n",
       "      <td>2500 PLATEAU RD</td>\n",
       "      <td>B3</td>\n",
       "    </tr>\n",
       "    <tr>\n",
       "      <th>4521</th>\n",
       "      <td>200</td>\n",
       "      <td>5TH ST NE</td>\n",
       "      <td>200 5TH ST NE</td>\n",
       "      <td>B4</td>\n",
       "    </tr>\n",
       "  </tbody>\n",
       "</table>\n",
       "</div>"
      ],
      "text/plain": [
       "      BlockNumber  StreetName            block  bI\n",
       "0             400   7TH ST NE    400 7TH ST NE  B0\n",
       "1653          100   7TH ST NE    100 7TH ST NE  B1\n",
       "2601          200   8TH ST NE    200 8TH ST NE  B2\n",
       "4465         2500  PLATEAU RD  2500 PLATEAU RD  B3\n",
       "4521          200   5TH ST NE    200 5TH ST NE  B4"
      ]
     },
     "execution_count": 16,
     "metadata": {},
     "output_type": "execute_result"
    }
   ],
   "source": [
    "b.bI = ['B' + s for s in b.bI.map(str)]\n",
    "b.head()"
   ]
  },
  {
   "cell_type": "code",
   "execution_count": 17,
   "metadata": {},
   "outputs": [],
   "source": [
    "#unique_ticket_locations_blocks = unique_ticket_locations_blocks.merge(b, how =\"left\", on=\"block\")"
   ]
  },
  {
   "cell_type": "code",
   "execution_count": 18,
   "metadata": {},
   "outputs": [],
   "source": [
    "#mat = pd.DataFrame({'month': d.month,'day':d.day})"
   ]
  },
  {
   "cell_type": "code",
   "execution_count": 19,
   "metadata": {},
   "outputs": [],
   "source": [
    "tickets = tickets.merge(unique_ticket_locations_blocks[['block','latitude','longitude']],how='left',left_on=['latitude','longitude'],right_on=['latitude','longitude'])"
   ]
  },
  {
   "cell_type": "code",
   "execution_count": 20,
   "metadata": {},
   "outputs": [],
   "source": [
    "tickets = tickets.merge(b[['block','bI']],how='left',on='block')"
   ]
  },
  {
   "cell_type": "code",
   "execution_count": 21,
   "metadata": {},
   "outputs": [],
   "source": [
    "tickets['DT'] = tickets['DateIssued'].apply(lambda x: datetime.strptime(x, \"%Y-%m-%dT%H:%M:%S.%fZ\"))"
   ]
  },
  {
   "cell_type": "code",
   "execution_count": 22,
   "metadata": {},
   "outputs": [
    {
     "data": {
      "text/plain": [
       "(datetime.datetime(5201, 6, 30, 0, 0), datetime.datetime(1999, 1, 5, 0, 0))"
      ]
     },
     "execution_count": 22,
     "metadata": {},
     "output_type": "execute_result"
    }
   ],
   "source": [
    "tickets.DT.max(), tickets.DT.min()"
   ]
  },
  {
   "cell_type": "code",
   "execution_count": 23,
   "metadata": {},
   "outputs": [
    {
     "data": {
      "text/plain": [
       "datetime.datetime(2018, 7, 26, 14, 2, 37)"
      ]
     },
     "execution_count": 23,
     "metadata": {},
     "output_type": "execute_result"
    }
   ],
   "source": [
    "tickets.DT[tickets.DT <= datetime(2019,3,1)].max()"
   ]
  },
  {
   "cell_type": "code",
   "execution_count": 24,
   "metadata": {},
   "outputs": [
    {
     "data": {
      "text/plain": [
       "datetime.datetime(2008, 7, 28, 14, 2, 37)"
      ]
     },
     "execution_count": 24,
     "metadata": {},
     "output_type": "execute_result"
    }
   ],
   "source": [
    "tickets.DT[tickets.DT <= datetime(2019,3,1)].max() - pd.Timedelta('3650 days')"
   ]
  },
  {
   "cell_type": "code",
   "execution_count": 25,
   "metadata": {},
   "outputs": [],
   "source": [
    "d = pd.date_range(\"07/26/2017\",\"07/26/2018\")"
   ]
  },
  {
   "cell_type": "code",
   "execution_count": 26,
   "metadata": {},
   "outputs": [],
   "source": [
    "index = pd.MultiIndex.from_product([d,t,b.bI], names = [\"date\",\"hour\",\"block\"])"
   ]
  },
  {
   "cell_type": "code",
   "execution_count": 27,
   "metadata": {},
   "outputs": [
    {
     "data": {
      "text/html": [
       "<div>\n",
       "<style scoped>\n",
       "    .dataframe tbody tr th:only-of-type {\n",
       "        vertical-align: middle;\n",
       "    }\n",
       "\n",
       "    .dataframe tbody tr th {\n",
       "        vertical-align: top;\n",
       "    }\n",
       "\n",
       "    .dataframe thead th {\n",
       "        text-align: right;\n",
       "    }\n",
       "</style>\n",
       "<table border=\"1\" class=\"dataframe\">\n",
       "  <thead>\n",
       "    <tr style=\"text-align: right;\">\n",
       "      <th></th>\n",
       "      <th></th>\n",
       "      <th></th>\n",
       "    </tr>\n",
       "    <tr>\n",
       "      <th>date</th>\n",
       "      <th>hour</th>\n",
       "      <th>block</th>\n",
       "    </tr>\n",
       "  </thead>\n",
       "  <tbody>\n",
       "    <tr>\n",
       "      <th rowspan=\"5\" valign=\"top\">2017-07-26</th>\n",
       "      <th rowspan=\"5\" valign=\"top\">00:00:00</th>\n",
       "      <th>B0</th>\n",
       "    </tr>\n",
       "    <tr>\n",
       "      <th>B1</th>\n",
       "    </tr>\n",
       "    <tr>\n",
       "      <th>B2</th>\n",
       "    </tr>\n",
       "    <tr>\n",
       "      <th>B3</th>\n",
       "    </tr>\n",
       "    <tr>\n",
       "      <th>B4</th>\n",
       "    </tr>\n",
       "  </tbody>\n",
       "</table>\n",
       "</div>"
      ],
      "text/plain": [
       "Empty DataFrame\n",
       "Columns: []\n",
       "Index: [(2017-07-26 00:00:00, 00:00:00, B0), (2017-07-26 00:00:00, 00:00:00, B1), (2017-07-26 00:00:00, 00:00:00, B2), (2017-07-26 00:00:00, 00:00:00, B3), (2017-07-26 00:00:00, 00:00:00, B4)]"
      ]
     },
     "execution_count": 27,
     "metadata": {},
     "output_type": "execute_result"
    }
   ],
   "source": [
    "x = pd.DataFrame(index=index)\n",
    "x.head()"
   ]
  },
  {
   "cell_type": "code",
   "execution_count": 28,
   "metadata": {},
   "outputs": [
    {
     "data": {
      "text/plain": [
       "(28073664, 0)"
      ]
     },
     "execution_count": 28,
     "metadata": {},
     "output_type": "execute_result"
    }
   ],
   "source": [
    "x.shape"
   ]
  },
  {
   "cell_type": "markdown",
   "metadata": {},
   "source": [
    "### Format Cville Tickets Data for Merge"
   ]
  },
  {
   "cell_type": "code",
   "execution_count": 29,
   "metadata": {},
   "outputs": [],
   "source": [
    "tickets['date'] = tickets['DT'].apply(lambda x: datetime.date(x))"
   ]
  },
  {
   "cell_type": "code",
   "execution_count": 30,
   "metadata": {},
   "outputs": [],
   "source": [
    "tickets['hour'] = tickets['DT'].apply(lambda x: datetime.time(x))"
   ]
  },
  {
   "cell_type": "code",
   "execution_count": 31,
   "metadata": {},
   "outputs": [],
   "source": [
    "tickets['hour'] = tickets['hour'].map(str)\n",
    "tickets['hour'] = tickets['hour'].str[:2]"
   ]
  },
  {
   "cell_type": "code",
   "execution_count": 32,
   "metadata": {},
   "outputs": [],
   "source": [
    "tickets['hour'] = tickets['hour'].map(str) + \":00\""
   ]
  },
  {
   "cell_type": "code",
   "execution_count": 33,
   "metadata": {},
   "outputs": [],
   "source": [
    "tickets['hour'] = tickets['hour'].apply(lambda x: datetime.strptime(x, \"%H:%M\").time())"
   ]
  },
  {
   "cell_type": "code",
   "execution_count": 34,
   "metadata": {},
   "outputs": [
    {
     "data": {
      "text/plain": [
       "0    11:00:00\n",
       "1    13:00:00\n",
       "2    13:00:00\n",
       "3    13:00:00\n",
       "4    12:00:00\n",
       "Name: hour, dtype: object"
      ]
     },
     "execution_count": 34,
     "metadata": {},
     "output_type": "execute_result"
    }
   ],
   "source": [
    "tickets['hour'].head()"
   ]
  },
  {
   "cell_type": "code",
   "execution_count": 35,
   "metadata": {},
   "outputs": [],
   "source": [
    "tickets.drop(['block'], axis=1, inplace= True)"
   ]
  },
  {
   "cell_type": "code",
   "execution_count": 36,
   "metadata": {},
   "outputs": [],
   "source": [
    "tickets.rename(columns={'bI': 'block'}, inplace=True)"
   ]
  },
  {
   "cell_type": "code",
   "execution_count": 37,
   "metadata": {},
   "outputs": [
    {
     "data": {
      "text/html": [
       "<div>\n",
       "<style scoped>\n",
       "    .dataframe tbody tr th:only-of-type {\n",
       "        vertical-align: middle;\n",
       "    }\n",
       "\n",
       "    .dataframe tbody tr th {\n",
       "        vertical-align: top;\n",
       "    }\n",
       "\n",
       "    .dataframe thead th {\n",
       "        text-align: right;\n",
       "    }\n",
       "</style>\n",
       "<table border=\"1\" class=\"dataframe\">\n",
       "  <thead>\n",
       "    <tr style=\"text-align: right;\">\n",
       "      <th></th>\n",
       "      <th></th>\n",
       "      <th></th>\n",
       "      <th>Index</th>\n",
       "      <th>RecordID</th>\n",
       "      <th>TicketNumber</th>\n",
       "      <th>DateIssued</th>\n",
       "      <th>StreetName</th>\n",
       "      <th>TimeIssued</th>\n",
       "      <th>StreetNumber</th>\n",
       "      <th>LicenseState</th>\n",
       "      <th>WaiverRequestDate</th>\n",
       "      <th>WaiverGrantedDate</th>\n",
       "      <th>...</th>\n",
       "      <th>Location</th>\n",
       "      <th>LicensePlateAnon</th>\n",
       "      <th>newlocation</th>\n",
       "      <th>input_string</th>\n",
       "      <th>latitude</th>\n",
       "      <th>longitude</th>\n",
       "      <th>block</th>\n",
       "      <th>DT</th>\n",
       "      <th>date</th>\n",
       "      <th>hour</th>\n",
       "    </tr>\n",
       "    <tr>\n",
       "      <th>date</th>\n",
       "      <th>hour</th>\n",
       "      <th>block</th>\n",
       "      <th></th>\n",
       "      <th></th>\n",
       "      <th></th>\n",
       "      <th></th>\n",
       "      <th></th>\n",
       "      <th></th>\n",
       "      <th></th>\n",
       "      <th></th>\n",
       "      <th></th>\n",
       "      <th></th>\n",
       "      <th></th>\n",
       "      <th></th>\n",
       "      <th></th>\n",
       "      <th></th>\n",
       "      <th></th>\n",
       "      <th></th>\n",
       "      <th></th>\n",
       "      <th></th>\n",
       "      <th></th>\n",
       "      <th></th>\n",
       "      <th></th>\n",
       "    </tr>\n",
       "  </thead>\n",
       "  <tbody>\n",
       "    <tr>\n",
       "      <th rowspan=\"2\" valign=\"top\">2016-04-27</th>\n",
       "      <th>11:00:00</th>\n",
       "      <th>B0</th>\n",
       "      <td>0</td>\n",
       "      <td>3001</td>\n",
       "      <td>185322</td>\n",
       "      <td>2016-04-27T11:45:05.000Z</td>\n",
       "      <td>7TH ST NE</td>\n",
       "      <td>11:45</td>\n",
       "      <td>400</td>\n",
       "      <td>VA</td>\n",
       "      <td>NaN</td>\n",
       "      <td>NaN</td>\n",
       "      <td>...</td>\n",
       "      <td>400 7TH ST NE</td>\n",
       "      <td>106713</td>\n",
       "      <td>400 7TH ST NE Charlottesville, VA</td>\n",
       "      <td>400 7TH ST NE Charlottesville, VA</td>\n",
       "      <td>38.031652</td>\n",
       "      <td>-78.475925</td>\n",
       "      <td>B0</td>\n",
       "      <td>2016-04-27 11:45:05</td>\n",
       "      <td>2016-04-27</td>\n",
       "      <td>11:00:00</td>\n",
       "    </tr>\n",
       "    <tr>\n",
       "      <th>13:00:00</th>\n",
       "      <th>B0</th>\n",
       "      <td>1</td>\n",
       "      <td>3094</td>\n",
       "      <td>185414</td>\n",
       "      <td>2016-04-27T13:57:39.000Z</td>\n",
       "      <td>7TH ST NE</td>\n",
       "      <td>13:57</td>\n",
       "      <td>400</td>\n",
       "      <td>VA</td>\n",
       "      <td>NaN</td>\n",
       "      <td>NaN</td>\n",
       "      <td>...</td>\n",
       "      <td>400 7TH ST NE</td>\n",
       "      <td>135871</td>\n",
       "      <td>400 7TH ST NE Charlottesville, VA</td>\n",
       "      <td>400 7TH ST NE Charlottesville, VA</td>\n",
       "      <td>38.031652</td>\n",
       "      <td>-78.475925</td>\n",
       "      <td>B0</td>\n",
       "      <td>2016-04-27 13:57:39</td>\n",
       "      <td>2016-04-27</td>\n",
       "      <td>13:00:00</td>\n",
       "    </tr>\n",
       "    <tr>\n",
       "      <th rowspan=\"2\" valign=\"top\">2016-04-28</th>\n",
       "      <th rowspan=\"2\" valign=\"top\">13:00:00</th>\n",
       "      <th>B0</th>\n",
       "      <td>2</td>\n",
       "      <td>3136</td>\n",
       "      <td>185462</td>\n",
       "      <td>2016-04-28T13:05:44.000Z</td>\n",
       "      <td>7TH ST NE</td>\n",
       "      <td>13:05</td>\n",
       "      <td>400</td>\n",
       "      <td>VA</td>\n",
       "      <td>NaN</td>\n",
       "      <td>NaN</td>\n",
       "      <td>...</td>\n",
       "      <td>400 7TH ST NE</td>\n",
       "      <td>110072</td>\n",
       "      <td>400 7TH ST NE Charlottesville, VA</td>\n",
       "      <td>400 7TH ST NE Charlottesville, VA</td>\n",
       "      <td>38.031652</td>\n",
       "      <td>-78.475925</td>\n",
       "      <td>B0</td>\n",
       "      <td>2016-04-28 13:05:44</td>\n",
       "      <td>2016-04-28</td>\n",
       "      <td>13:00:00</td>\n",
       "    </tr>\n",
       "    <tr>\n",
       "      <th>B0</th>\n",
       "      <td>3</td>\n",
       "      <td>3137</td>\n",
       "      <td>185463</td>\n",
       "      <td>2016-04-28T13:06:43.000Z</td>\n",
       "      <td>7TH ST NE</td>\n",
       "      <td>13:06</td>\n",
       "      <td>400</td>\n",
       "      <td>VA</td>\n",
       "      <td>NaN</td>\n",
       "      <td>NaN</td>\n",
       "      <td>...</td>\n",
       "      <td>400 7TH ST NE</td>\n",
       "      <td>132625</td>\n",
       "      <td>400 7TH ST NE Charlottesville, VA</td>\n",
       "      <td>400 7TH ST NE Charlottesville, VA</td>\n",
       "      <td>38.031652</td>\n",
       "      <td>-78.475925</td>\n",
       "      <td>B0</td>\n",
       "      <td>2016-04-28 13:06:43</td>\n",
       "      <td>2016-04-28</td>\n",
       "      <td>13:00:00</td>\n",
       "    </tr>\n",
       "    <tr>\n",
       "      <th>2016-05-05</th>\n",
       "      <th>12:00:00</th>\n",
       "      <th>B0</th>\n",
       "      <td>4</td>\n",
       "      <td>3614</td>\n",
       "      <td>185970</td>\n",
       "      <td>2016-05-05T12:33:21.000Z</td>\n",
       "      <td>7TH ST NE</td>\n",
       "      <td>12:33</td>\n",
       "      <td>400</td>\n",
       "      <td>VA</td>\n",
       "      <td>NaN</td>\n",
       "      <td>NaN</td>\n",
       "      <td>...</td>\n",
       "      <td>400 7TH ST NE</td>\n",
       "      <td>71445</td>\n",
       "      <td>400 7TH ST NE Charlottesville, VA</td>\n",
       "      <td>400 7TH ST NE Charlottesville, VA</td>\n",
       "      <td>38.031652</td>\n",
       "      <td>-78.475925</td>\n",
       "      <td>B0</td>\n",
       "      <td>2016-05-05 12:33:21</td>\n",
       "      <td>2016-05-05</td>\n",
       "      <td>12:00:00</td>\n",
       "    </tr>\n",
       "  </tbody>\n",
       "</table>\n",
       "<p>5 rows × 24 columns</p>\n",
       "</div>"
      ],
      "text/plain": [
       "                           Index  RecordID TicketNumber  \\\n",
       "date       hour     block                                 \n",
       "2016-04-27 11:00:00 B0         0      3001       185322   \n",
       "           13:00:00 B0         1      3094       185414   \n",
       "2016-04-28 13:00:00 B0         2      3136       185462   \n",
       "                    B0         3      3137       185463   \n",
       "2016-05-05 12:00:00 B0         4      3614       185970   \n",
       "\n",
       "                                         DateIssued StreetName TimeIssued  \\\n",
       "date       hour     block                                                   \n",
       "2016-04-27 11:00:00 B0     2016-04-27T11:45:05.000Z  7TH ST NE      11:45   \n",
       "           13:00:00 B0     2016-04-27T13:57:39.000Z  7TH ST NE      13:57   \n",
       "2016-04-28 13:00:00 B0     2016-04-28T13:05:44.000Z  7TH ST NE      13:05   \n",
       "                    B0     2016-04-28T13:06:43.000Z  7TH ST NE      13:06   \n",
       "2016-05-05 12:00:00 B0     2016-05-05T12:33:21.000Z  7TH ST NE      12:33   \n",
       "\n",
       "                          StreetNumber LicenseState WaiverRequestDate  \\\n",
       "date       hour     block                                               \n",
       "2016-04-27 11:00:00 B0             400           VA               NaN   \n",
       "           13:00:00 B0             400           VA               NaN   \n",
       "2016-04-28 13:00:00 B0             400           VA               NaN   \n",
       "                    B0             400           VA               NaN   \n",
       "2016-05-05 12:00:00 B0             400           VA               NaN   \n",
       "\n",
       "                          WaiverGrantedDate    ...          Location  \\\n",
       "date       hour     block                      ...                     \n",
       "2016-04-27 11:00:00 B0                  NaN    ...     400 7TH ST NE   \n",
       "           13:00:00 B0                  NaN    ...     400 7TH ST NE   \n",
       "2016-04-28 13:00:00 B0                  NaN    ...     400 7TH ST NE   \n",
       "                    B0                  NaN    ...     400 7TH ST NE   \n",
       "2016-05-05 12:00:00 B0                  NaN    ...     400 7TH ST NE   \n",
       "\n",
       "                          LicensePlateAnon                        newlocation  \\\n",
       "date       hour     block                                                       \n",
       "2016-04-27 11:00:00 B0              106713  400 7TH ST NE Charlottesville, VA   \n",
       "           13:00:00 B0              135871  400 7TH ST NE Charlottesville, VA   \n",
       "2016-04-28 13:00:00 B0              110072  400 7TH ST NE Charlottesville, VA   \n",
       "                    B0              132625  400 7TH ST NE Charlottesville, VA   \n",
       "2016-05-05 12:00:00 B0               71445  400 7TH ST NE Charlottesville, VA   \n",
       "\n",
       "                                                input_string   latitude  \\\n",
       "date       hour     block                                                 \n",
       "2016-04-27 11:00:00 B0     400 7TH ST NE Charlottesville, VA  38.031652   \n",
       "           13:00:00 B0     400 7TH ST NE Charlottesville, VA  38.031652   \n",
       "2016-04-28 13:00:00 B0     400 7TH ST NE Charlottesville, VA  38.031652   \n",
       "                    B0     400 7TH ST NE Charlottesville, VA  38.031652   \n",
       "2016-05-05 12:00:00 B0     400 7TH ST NE Charlottesville, VA  38.031652   \n",
       "\n",
       "                           longitude block                   DT        date  \\\n",
       "date       hour     block                                                     \n",
       "2016-04-27 11:00:00 B0    -78.475925    B0  2016-04-27 11:45:05  2016-04-27   \n",
       "           13:00:00 B0    -78.475925    B0  2016-04-27 13:57:39  2016-04-27   \n",
       "2016-04-28 13:00:00 B0    -78.475925    B0  2016-04-28 13:05:44  2016-04-28   \n",
       "                    B0    -78.475925    B0  2016-04-28 13:06:43  2016-04-28   \n",
       "2016-05-05 12:00:00 B0    -78.475925    B0  2016-05-05 12:33:21  2016-05-05   \n",
       "\n",
       "                               hour  \n",
       "date       hour     block            \n",
       "2016-04-27 11:00:00 B0     11:00:00  \n",
       "           13:00:00 B0     13:00:00  \n",
       "2016-04-28 13:00:00 B0     13:00:00  \n",
       "                    B0     13:00:00  \n",
       "2016-05-05 12:00:00 B0     12:00:00  \n",
       "\n",
       "[5 rows x 24 columns]"
      ]
     },
     "execution_count": 37,
     "metadata": {},
     "output_type": "execute_result"
    }
   ],
   "source": [
    "tickets.set_index(['date','hour','block'], drop=False, append=False, inplace=True, verify_integrity=False)\n",
    "tickets.head()"
   ]
  },
  {
   "cell_type": "code",
   "execution_count": 38,
   "metadata": {},
   "outputs": [
    {
     "data": {
      "text/html": [
       "<div>\n",
       "<style scoped>\n",
       "    .dataframe tbody tr th:only-of-type {\n",
       "        vertical-align: middle;\n",
       "    }\n",
       "\n",
       "    .dataframe tbody tr th {\n",
       "        vertical-align: top;\n",
       "    }\n",
       "\n",
       "    .dataframe thead th {\n",
       "        text-align: right;\n",
       "    }\n",
       "</style>\n",
       "<table border=\"1\" class=\"dataframe\">\n",
       "  <thead>\n",
       "    <tr style=\"text-align: right;\">\n",
       "      <th></th>\n",
       "      <th></th>\n",
       "      <th></th>\n",
       "    </tr>\n",
       "    <tr>\n",
       "      <th>date</th>\n",
       "      <th>hour</th>\n",
       "      <th>block</th>\n",
       "    </tr>\n",
       "  </thead>\n",
       "  <tbody>\n",
       "    <tr>\n",
       "      <th rowspan=\"5\" valign=\"top\">2017-07-26</th>\n",
       "      <th rowspan=\"5\" valign=\"top\">00:00:00</th>\n",
       "      <th>B0</th>\n",
       "    </tr>\n",
       "    <tr>\n",
       "      <th>B1</th>\n",
       "    </tr>\n",
       "    <tr>\n",
       "      <th>B2</th>\n",
       "    </tr>\n",
       "    <tr>\n",
       "      <th>B3</th>\n",
       "    </tr>\n",
       "    <tr>\n",
       "      <th>B4</th>\n",
       "    </tr>\n",
       "  </tbody>\n",
       "</table>\n",
       "</div>"
      ],
      "text/plain": [
       "Empty DataFrame\n",
       "Columns: []\n",
       "Index: [(2017-07-26 00:00:00, 00:00:00, B0), (2017-07-26 00:00:00, 00:00:00, B1), (2017-07-26 00:00:00, 00:00:00, B2), (2017-07-26 00:00:00, 00:00:00, B3), (2017-07-26 00:00:00, 00:00:00, B4)]"
      ]
     },
     "execution_count": 38,
     "metadata": {},
     "output_type": "execute_result"
    }
   ],
   "source": [
    "x.head()"
   ]
  },
  {
   "cell_type": "code",
   "execution_count": 39,
   "metadata": {},
   "outputs": [
    {
     "data": {
      "text/html": [
       "<div>\n",
       "<style scoped>\n",
       "    .dataframe tbody tr th:only-of-type {\n",
       "        vertical-align: middle;\n",
       "    }\n",
       "\n",
       "    .dataframe tbody tr th {\n",
       "        vertical-align: top;\n",
       "    }\n",
       "\n",
       "    .dataframe thead th {\n",
       "        text-align: right;\n",
       "    }\n",
       "</style>\n",
       "<table border=\"1\" class=\"dataframe\">\n",
       "  <thead>\n",
       "    <tr style=\"text-align: right;\">\n",
       "      <th></th>\n",
       "      <th></th>\n",
       "      <th></th>\n",
       "      <th>Index</th>\n",
       "      <th>RecordID</th>\n",
       "      <th>TicketNumber</th>\n",
       "      <th>DateIssued</th>\n",
       "      <th>StreetName</th>\n",
       "      <th>TimeIssued</th>\n",
       "      <th>StreetNumber</th>\n",
       "      <th>LicenseState</th>\n",
       "      <th>WaiverRequestDate</th>\n",
       "      <th>WaiverGrantedDate</th>\n",
       "      <th>...</th>\n",
       "      <th>LicensePlateAnon</th>\n",
       "      <th>newlocation</th>\n",
       "      <th>input_string</th>\n",
       "      <th>latitude</th>\n",
       "      <th>longitude</th>\n",
       "      <th>block</th>\n",
       "      <th>DT</th>\n",
       "      <th>date</th>\n",
       "      <th>hour</th>\n",
       "      <th>ticket</th>\n",
       "    </tr>\n",
       "    <tr>\n",
       "      <th>date</th>\n",
       "      <th>hour</th>\n",
       "      <th>block</th>\n",
       "      <th></th>\n",
       "      <th></th>\n",
       "      <th></th>\n",
       "      <th></th>\n",
       "      <th></th>\n",
       "      <th></th>\n",
       "      <th></th>\n",
       "      <th></th>\n",
       "      <th></th>\n",
       "      <th></th>\n",
       "      <th></th>\n",
       "      <th></th>\n",
       "      <th></th>\n",
       "      <th></th>\n",
       "      <th></th>\n",
       "      <th></th>\n",
       "      <th></th>\n",
       "      <th></th>\n",
       "      <th></th>\n",
       "      <th></th>\n",
       "      <th></th>\n",
       "    </tr>\n",
       "  </thead>\n",
       "  <tbody>\n",
       "    <tr>\n",
       "      <th rowspan=\"2\" valign=\"top\">2016-04-27</th>\n",
       "      <th>11:00:00</th>\n",
       "      <th>B0</th>\n",
       "      <td>0</td>\n",
       "      <td>3001</td>\n",
       "      <td>185322</td>\n",
       "      <td>2016-04-27T11:45:05.000Z</td>\n",
       "      <td>7TH ST NE</td>\n",
       "      <td>11:45</td>\n",
       "      <td>400</td>\n",
       "      <td>VA</td>\n",
       "      <td>NaN</td>\n",
       "      <td>NaN</td>\n",
       "      <td>...</td>\n",
       "      <td>106713</td>\n",
       "      <td>400 7TH ST NE Charlottesville, VA</td>\n",
       "      <td>400 7TH ST NE Charlottesville, VA</td>\n",
       "      <td>38.031652</td>\n",
       "      <td>-78.475925</td>\n",
       "      <td>B0</td>\n",
       "      <td>2016-04-27 11:45:05</td>\n",
       "      <td>2016-04-27</td>\n",
       "      <td>11:00:00</td>\n",
       "      <td>1</td>\n",
       "    </tr>\n",
       "    <tr>\n",
       "      <th>13:00:00</th>\n",
       "      <th>B0</th>\n",
       "      <td>1</td>\n",
       "      <td>3094</td>\n",
       "      <td>185414</td>\n",
       "      <td>2016-04-27T13:57:39.000Z</td>\n",
       "      <td>7TH ST NE</td>\n",
       "      <td>13:57</td>\n",
       "      <td>400</td>\n",
       "      <td>VA</td>\n",
       "      <td>NaN</td>\n",
       "      <td>NaN</td>\n",
       "      <td>...</td>\n",
       "      <td>135871</td>\n",
       "      <td>400 7TH ST NE Charlottesville, VA</td>\n",
       "      <td>400 7TH ST NE Charlottesville, VA</td>\n",
       "      <td>38.031652</td>\n",
       "      <td>-78.475925</td>\n",
       "      <td>B0</td>\n",
       "      <td>2016-04-27 13:57:39</td>\n",
       "      <td>2016-04-27</td>\n",
       "      <td>13:00:00</td>\n",
       "      <td>1</td>\n",
       "    </tr>\n",
       "    <tr>\n",
       "      <th rowspan=\"2\" valign=\"top\">2016-04-28</th>\n",
       "      <th rowspan=\"2\" valign=\"top\">13:00:00</th>\n",
       "      <th>B0</th>\n",
       "      <td>2</td>\n",
       "      <td>3136</td>\n",
       "      <td>185462</td>\n",
       "      <td>2016-04-28T13:05:44.000Z</td>\n",
       "      <td>7TH ST NE</td>\n",
       "      <td>13:05</td>\n",
       "      <td>400</td>\n",
       "      <td>VA</td>\n",
       "      <td>NaN</td>\n",
       "      <td>NaN</td>\n",
       "      <td>...</td>\n",
       "      <td>110072</td>\n",
       "      <td>400 7TH ST NE Charlottesville, VA</td>\n",
       "      <td>400 7TH ST NE Charlottesville, VA</td>\n",
       "      <td>38.031652</td>\n",
       "      <td>-78.475925</td>\n",
       "      <td>B0</td>\n",
       "      <td>2016-04-28 13:05:44</td>\n",
       "      <td>2016-04-28</td>\n",
       "      <td>13:00:00</td>\n",
       "      <td>1</td>\n",
       "    </tr>\n",
       "    <tr>\n",
       "      <th>B0</th>\n",
       "      <td>3</td>\n",
       "      <td>3137</td>\n",
       "      <td>185463</td>\n",
       "      <td>2016-04-28T13:06:43.000Z</td>\n",
       "      <td>7TH ST NE</td>\n",
       "      <td>13:06</td>\n",
       "      <td>400</td>\n",
       "      <td>VA</td>\n",
       "      <td>NaN</td>\n",
       "      <td>NaN</td>\n",
       "      <td>...</td>\n",
       "      <td>132625</td>\n",
       "      <td>400 7TH ST NE Charlottesville, VA</td>\n",
       "      <td>400 7TH ST NE Charlottesville, VA</td>\n",
       "      <td>38.031652</td>\n",
       "      <td>-78.475925</td>\n",
       "      <td>B0</td>\n",
       "      <td>2016-04-28 13:06:43</td>\n",
       "      <td>2016-04-28</td>\n",
       "      <td>13:00:00</td>\n",
       "      <td>1</td>\n",
       "    </tr>\n",
       "    <tr>\n",
       "      <th>2016-05-05</th>\n",
       "      <th>12:00:00</th>\n",
       "      <th>B0</th>\n",
       "      <td>4</td>\n",
       "      <td>3614</td>\n",
       "      <td>185970</td>\n",
       "      <td>2016-05-05T12:33:21.000Z</td>\n",
       "      <td>7TH ST NE</td>\n",
       "      <td>12:33</td>\n",
       "      <td>400</td>\n",
       "      <td>VA</td>\n",
       "      <td>NaN</td>\n",
       "      <td>NaN</td>\n",
       "      <td>...</td>\n",
       "      <td>71445</td>\n",
       "      <td>400 7TH ST NE Charlottesville, VA</td>\n",
       "      <td>400 7TH ST NE Charlottesville, VA</td>\n",
       "      <td>38.031652</td>\n",
       "      <td>-78.475925</td>\n",
       "      <td>B0</td>\n",
       "      <td>2016-05-05 12:33:21</td>\n",
       "      <td>2016-05-05</td>\n",
       "      <td>12:00:00</td>\n",
       "      <td>1</td>\n",
       "    </tr>\n",
       "  </tbody>\n",
       "</table>\n",
       "<p>5 rows × 25 columns</p>\n",
       "</div>"
      ],
      "text/plain": [
       "                           Index  RecordID TicketNumber  \\\n",
       "date       hour     block                                 \n",
       "2016-04-27 11:00:00 B0         0      3001       185322   \n",
       "           13:00:00 B0         1      3094       185414   \n",
       "2016-04-28 13:00:00 B0         2      3136       185462   \n",
       "                    B0         3      3137       185463   \n",
       "2016-05-05 12:00:00 B0         4      3614       185970   \n",
       "\n",
       "                                         DateIssued StreetName TimeIssued  \\\n",
       "date       hour     block                                                   \n",
       "2016-04-27 11:00:00 B0     2016-04-27T11:45:05.000Z  7TH ST NE      11:45   \n",
       "           13:00:00 B0     2016-04-27T13:57:39.000Z  7TH ST NE      13:57   \n",
       "2016-04-28 13:00:00 B0     2016-04-28T13:05:44.000Z  7TH ST NE      13:05   \n",
       "                    B0     2016-04-28T13:06:43.000Z  7TH ST NE      13:06   \n",
       "2016-05-05 12:00:00 B0     2016-05-05T12:33:21.000Z  7TH ST NE      12:33   \n",
       "\n",
       "                          StreetNumber LicenseState WaiverRequestDate  \\\n",
       "date       hour     block                                               \n",
       "2016-04-27 11:00:00 B0             400           VA               NaN   \n",
       "           13:00:00 B0             400           VA               NaN   \n",
       "2016-04-28 13:00:00 B0             400           VA               NaN   \n",
       "                    B0             400           VA               NaN   \n",
       "2016-05-05 12:00:00 B0             400           VA               NaN   \n",
       "\n",
       "                          WaiverGrantedDate   ...   LicensePlateAnon  \\\n",
       "date       hour     block                     ...                      \n",
       "2016-04-27 11:00:00 B0                  NaN   ...             106713   \n",
       "           13:00:00 B0                  NaN   ...             135871   \n",
       "2016-04-28 13:00:00 B0                  NaN   ...             110072   \n",
       "                    B0                  NaN   ...             132625   \n",
       "2016-05-05 12:00:00 B0                  NaN   ...              71445   \n",
       "\n",
       "                                                 newlocation  \\\n",
       "date       hour     block                                      \n",
       "2016-04-27 11:00:00 B0     400 7TH ST NE Charlottesville, VA   \n",
       "           13:00:00 B0     400 7TH ST NE Charlottesville, VA   \n",
       "2016-04-28 13:00:00 B0     400 7TH ST NE Charlottesville, VA   \n",
       "                    B0     400 7TH ST NE Charlottesville, VA   \n",
       "2016-05-05 12:00:00 B0     400 7TH ST NE Charlottesville, VA   \n",
       "\n",
       "                                                input_string   latitude  \\\n",
       "date       hour     block                                                 \n",
       "2016-04-27 11:00:00 B0     400 7TH ST NE Charlottesville, VA  38.031652   \n",
       "           13:00:00 B0     400 7TH ST NE Charlottesville, VA  38.031652   \n",
       "2016-04-28 13:00:00 B0     400 7TH ST NE Charlottesville, VA  38.031652   \n",
       "                    B0     400 7TH ST NE Charlottesville, VA  38.031652   \n",
       "2016-05-05 12:00:00 B0     400 7TH ST NE Charlottesville, VA  38.031652   \n",
       "\n",
       "                           longitude  block                   DT        date  \\\n",
       "date       hour     block                                                      \n",
       "2016-04-27 11:00:00 B0    -78.475925     B0  2016-04-27 11:45:05  2016-04-27   \n",
       "           13:00:00 B0    -78.475925     B0  2016-04-27 13:57:39  2016-04-27   \n",
       "2016-04-28 13:00:00 B0    -78.475925     B0  2016-04-28 13:05:44  2016-04-28   \n",
       "                    B0    -78.475925     B0  2016-04-28 13:06:43  2016-04-28   \n",
       "2016-05-05 12:00:00 B0    -78.475925     B0  2016-05-05 12:33:21  2016-05-05   \n",
       "\n",
       "                               hour  ticket  \n",
       "date       hour     block                    \n",
       "2016-04-27 11:00:00 B0     11:00:00       1  \n",
       "           13:00:00 B0     13:00:00       1  \n",
       "2016-04-28 13:00:00 B0     13:00:00       1  \n",
       "                    B0     13:00:00       1  \n",
       "2016-05-05 12:00:00 B0     12:00:00       1  \n",
       "\n",
       "[5 rows x 25 columns]"
      ]
     },
     "execution_count": 39,
     "metadata": {},
     "output_type": "execute_result"
    }
   ],
   "source": [
    "tickets['ticket'] = 1\n",
    "tickets.head()"
   ]
  },
  {
   "cell_type": "code",
   "execution_count": 40,
   "metadata": {},
   "outputs": [],
   "source": [
    "tickets.drop_duplicates(subset=['date', 'hour','block'], keep='first', inplace = True)"
   ]
  },
  {
   "cell_type": "markdown",
   "metadata": {},
   "source": [
    "### Selecting a date range: 7/26/2017 -> 8/26/2017"
   ]
  },
  {
   "cell_type": "code",
   "execution_count": 41,
   "metadata": {},
   "outputs": [],
   "source": [
    "tickets2 = tickets[tickets.DT >= datetime(2017,7,26)]"
   ]
  },
  {
   "cell_type": "code",
   "execution_count": 42,
   "metadata": {},
   "outputs": [],
   "source": [
    "#x.to_csv(\"x.csv\")"
   ]
  },
  {
   "cell_type": "code",
   "execution_count": 43,
   "metadata": {},
   "outputs": [],
   "source": [
    "#tickets2.to_csv(\"tickets2.csv\")"
   ]
  },
  {
   "cell_type": "code",
   "execution_count": 44,
   "metadata": {},
   "outputs": [],
   "source": [
    "unique_ticket_locations_blocks = unique_ticket_locations_blocks.merge(b[['block','bI']], how = 'left', on = 'block')"
   ]
  },
  {
   "cell_type": "markdown",
   "metadata": {},
   "source": [
    "### Lat/Long Block Index Lookup Table"
   ]
  },
  {
   "cell_type": "code",
   "execution_count": 48,
   "metadata": {},
   "outputs": [],
   "source": [
    "blocks = unique_ticket_locations_blocks[['latitude','longitude','block','bI']]"
   ]
  },
  {
   "cell_type": "code",
   "execution_count": 52,
   "metadata": {},
   "outputs": [],
   "source": [
    "blocks.to_csv(\"blocklatlong.csv\", index= False)"
   ]
  },
  {
   "cell_type": "code",
   "execution_count": 51,
   "metadata": {},
   "outputs": [
    {
     "data": {
      "text/html": [
       "<div>\n",
       "<style scoped>\n",
       "    .dataframe tbody tr th:only-of-type {\n",
       "        vertical-align: middle;\n",
       "    }\n",
       "\n",
       "    .dataframe tbody tr th {\n",
       "        vertical-align: top;\n",
       "    }\n",
       "\n",
       "    .dataframe thead th {\n",
       "        text-align: right;\n",
       "    }\n",
       "</style>\n",
       "<table border=\"1\" class=\"dataframe\">\n",
       "  <thead>\n",
       "    <tr style=\"text-align: right;\">\n",
       "      <th></th>\n",
       "      <th>latitude</th>\n",
       "      <th>longitude</th>\n",
       "      <th>block</th>\n",
       "      <th>bI</th>\n",
       "    </tr>\n",
       "  </thead>\n",
       "  <tbody>\n",
       "    <tr>\n",
       "      <th>0</th>\n",
       "      <td>38.031652</td>\n",
       "      <td>-78.475925</td>\n",
       "      <td>400 7TH ST NE</td>\n",
       "      <td>B0</td>\n",
       "    </tr>\n",
       "    <tr>\n",
       "      <th>1</th>\n",
       "      <td>38.029756</td>\n",
       "      <td>-78.476534</td>\n",
       "      <td>100 7TH ST NE</td>\n",
       "      <td>B1</td>\n",
       "    </tr>\n",
       "    <tr>\n",
       "      <th>2</th>\n",
       "      <td>38.029934</td>\n",
       "      <td>-78.476060</td>\n",
       "      <td>200 8TH ST NE</td>\n",
       "      <td>B2</td>\n",
       "    </tr>\n",
       "    <tr>\n",
       "      <th>3</th>\n",
       "      <td>38.024968</td>\n",
       "      <td>-78.520717</td>\n",
       "      <td>2500 PLATEAU RD</td>\n",
       "      <td>B3</td>\n",
       "    </tr>\n",
       "    <tr>\n",
       "      <th>4</th>\n",
       "      <td>38.030625</td>\n",
       "      <td>-78.478093</td>\n",
       "      <td>200 5TH ST NE</td>\n",
       "      <td>B4</td>\n",
       "    </tr>\n",
       "  </tbody>\n",
       "</table>\n",
       "</div>"
      ],
      "text/plain": [
       "    latitude  longitude            block  bI\n",
       "0  38.031652 -78.475925    400 7TH ST NE  B0\n",
       "1  38.029756 -78.476534    100 7TH ST NE  B1\n",
       "2  38.029934 -78.476060    200 8TH ST NE  B2\n",
       "3  38.024968 -78.520717  2500 PLATEAU RD  B3\n",
       "4  38.030625 -78.478093    200 5TH ST NE  B4"
      ]
     },
     "execution_count": 51,
     "metadata": {},
     "output_type": "execute_result"
    }
   ],
   "source": [
    "blocks.head()"
   ]
  },
  {
   "cell_type": "markdown",
   "metadata": {},
   "source": [
    "### Merge Model Table and Tickets"
   ]
  },
  {
   "cell_type": "code",
   "execution_count": null,
   "metadata": {},
   "outputs": [],
   "source": [
    "x = x.join(tickets.ticket, how = 'left')"
   ]
  },
  {
   "cell_type": "code",
   "execution_count": null,
   "metadata": {},
   "outputs": [],
   "source": [
    "x.shape\n",
    "#(28073664, 1)"
   ]
  },
  {
   "cell_type": "code",
   "execution_count": null,
   "metadata": {},
   "outputs": [],
   "source": [
    "x.fillna(value=0, inplace= True)"
   ]
  },
  {
   "cell_type": "code",
   "execution_count": null,
   "metadata": {},
   "outputs": [],
   "source": [
    "x.reset_index(inplace = True)\n",
    "x['dow'] = x['date'].apply(lambda y: y.weekday())\n",
    "x['month'] = x['date'].apply(lambda y: y.month)\n",
    "x['hour'] = x['hour'].str[:2]\n",
    "x['hour'] = x['hour'].map(int)"
   ]
  },
  {
   "cell_type": "code",
   "execution_count": null,
   "metadata": {},
   "outputs": [],
   "source": [
    "test = x[x.date >= datetime(2018,6,1)]\n",
    "train = x[x.date < datetime(2018,6,1)]"
   ]
  },
  {
   "cell_type": "code",
   "execution_count": null,
   "metadata": {},
   "outputs": [],
   "source": [
    "test.drop(['date'],inplace= True, axis = 1)"
   ]
  },
  {
   "cell_type": "code",
   "execution_count": null,
   "metadata": {},
   "outputs": [],
   "source": [
    "train = train[['block', 'hour','month','dow','ticket']]\n",
    "test = test[['block', 'hour','month','dow','ticket']]"
   ]
  },
  {
   "cell_type": "code",
   "execution_count": null,
   "metadata": {},
   "outputs": [],
   "source": [
    "test.ticket.value_counts()\n",
    "#0.0    4293661\n",
    "#1.0       1763\n",
    "# ~2500x"
   ]
  },
  {
   "cell_type": "code",
   "execution_count": null,
   "metadata": {},
   "outputs": [],
   "source": [
    "train.ticket.value_counts()\n",
    "#0.0    23769374\n",
    "#1.0        8866"
   ]
  },
  {
   "cell_type": "code",
   "execution_count": null,
   "metadata": {},
   "outputs": [],
   "source": [
    "train2.to_pickle(\"train2.pkl\")\n",
    "test2.to_pickle(\"test2.pkl\")"
   ]
  },
  {
   "cell_type": "markdown",
   "metadata": {},
   "source": [
    "# End"
   ]
  }
 ],
 "metadata": {
  "kernelspec": {
   "display_name": "Python 3",
   "language": "python",
   "name": "python3"
  },
  "language_info": {
   "codemirror_mode": {
    "name": "ipython",
    "version": 3
   },
   "file_extension": ".py",
   "mimetype": "text/x-python",
   "name": "python",
   "nbconvert_exporter": "python",
   "pygments_lexer": "ipython3",
   "version": "3.6.5"
  }
 },
 "nbformat": 4,
 "nbformat_minor": 2
}
