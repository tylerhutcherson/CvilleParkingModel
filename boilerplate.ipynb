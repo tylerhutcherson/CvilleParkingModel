{
 "cells": [
  {
   "cell_type": "markdown",
   "metadata": {},
   "source": [
    "## **Boilerplate Notebook**\n",
    "This notebook is intended to be a blank starting point for your new project.\n",
    "\n",
    "--- \n",
    "\n",
    "Execute each cell one-by-one, by selecting the cell and do one of the following:\n",
    "\n",
    "- Clicking the \"play\" button at the top of this frame.\n",
    "- Typing 'Control + Enter' or 'Shift + Enter'."
   ]
  },
  {
   "cell_type": "code",
   "execution_count": null,
   "metadata": {},
   "outputs": [],
   "source": [
    "# Import necessary modules and libraries\n",
    "import utilities.save_models as sm\n",
    "from skafossdk import Skafos\n",
    "\n",
    "import numpy as np\n",
    "from sklearn.linear_model import LinearRegression\n",
    "\n",
    "import coremltools"
   ]
  },
  {
   "cell_type": "code",
   "execution_count": null,
   "metadata": {},
   "outputs": [],
   "source": [
    "# initialize Skafos\n",
    "ska = Skafos()"
   ]
  },
  {
   "cell_type": "markdown",
   "metadata": {},
   "source": [
    "### **Insert your code here.**\n",
    "Your code may do one or all of the following:\n",
    "\n",
    "- Ingest data from an external source\n",
    "- Clean or re-format data for modeling\n",
    "- Build a predictive model\n",
    "- Save a model artifact for use in another application"
   ]
  },
  {
   "cell_type": "markdown",
   "metadata": {},
   "source": [
    "### **1. Load the Data**\n",
    "Here we create some fake data but you could just as easily:\n",
    "- Connect to a cloud hosted database (S3 or other)\n",
    "- Download an open-source image dataset\n",
    "- Read directly from a static .csv link.\n",
    "\n",
    "For examples of each of these, feel free to check out our other model examples linked on the README of this repo."
   ]
  },
  {
   "cell_type": "code",
   "execution_count": 42,
   "metadata": {},
   "outputs": [],
   "source": [
    "# Generate some random data\n",
    "x = np.random.normal(loc=1, scale=2, size=1000)\n",
    "\n",
    "# Generate some random errors to introduce \"noise\" in our data\n",
    "e = np.random.normal(loc = 0, scale=1, size=1000)\n",
    "\n",
    "# Set our coefficient to 3\n",
    "beta = 3 \n",
    "\n",
    "# Build our response data according to the formula Y = 3 * X + error term\n",
    "y = (beta * x) + e"
   ]
  },
  {
   "cell_type": "markdown",
   "metadata": {},
   "source": [
    "### **2. Build the Model**\n",
    "We use a simple linear regression model to fit a model to the random data we created above. It is likely that your use case will use something more sophisticated. Feel free to mess around with this code or scrap it for your use case"
   ]
  },
  {
   "cell_type": "code",
   "execution_count": 48,
   "metadata": {},
   "outputs": [
    {
     "data": {
      "text/plain": [
       "LinearRegression(copy_X=True, fit_intercept=True, n_jobs=None,\n",
       "         normalize=False)"
      ]
     },
     "execution_count": 48,
     "metadata": {},
     "output_type": "execute_result"
    }
   ],
   "source": [
    "# Train a simple linear regression\n",
    "model = LinearRegression()\n",
    "model.fit(x.reshape(-1,1), y)\n"
   ]
  },
  {
   "cell_type": "markdown",
   "metadata": {},
   "source": [
    "### **3. Save the Model**"
   ]
  },
  {
   "cell_type": "code",
   "execution_count": 53,
   "metadata": {},
   "outputs": [
    {
     "name": "stderr",
     "output_type": "stream",
     "text": [
      "WARNING:root:Keras version 2.2.4 detected. Last version known to be fully compatible of Keras is 2.1.6 .\n"
     ]
    }
   ],
   "source": [
    " # Convert and save the scikit-learn model\n",
    "coreml_model = coremltools.converters.sklearn.convert(model, 'x', 'y')\n",
    "coreml_model.save(\"SimpleLinearRegression.mlmodel\")"
   ]
  }
 ],
 "metadata": {
  "kernelspec": {
   "display_name": "Python 3",
   "language": "python",
   "name": "python3"
  },
  "language_info": {
   "codemirror_mode": {
    "name": "ipython",
    "version": 3
   },
   "file_extension": ".py",
   "mimetype": "text/x-python",
   "name": "python",
   "nbconvert_exporter": "python",
   "pygments_lexer": "ipython3",
   "version": "3.6.6"
  }
 },
 "nbformat": 4,
 "nbformat_minor": 2
}
