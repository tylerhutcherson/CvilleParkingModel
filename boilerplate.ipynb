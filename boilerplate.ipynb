{
 "cells": [
  {
   "cell_type": "markdown",
   "metadata": {},
   "source": [
    "## **Boilerplate Notebook**\n",
    "This repository is intended to be a template for starting your project. This project could include any of the following: data ingestion, data cleaning, model training, and model delivery.\n",
    "\n",
    "--- \n",
    "\n",
    "Execute each cell one-by-one, by selecting the cell and do one of the following:\n",
    "\n",
    "- Clicking the \"play\" button at the top of this frame.\n",
    "- Typing 'Control + Enter' or 'Shift + Enter'."
   ]
  },
  {
   "cell_type": "code",
   "execution_count": 1,
   "metadata": {},
   "outputs": [
    {
     "name": "stderr",
     "output_type": "stream",
     "text": [
      "WARNING:root:Keras version 2.2.4 detected. Last version known to be fully compatible of Keras is 2.1.6 .\n"
     ]
    },
    {
     "name": "stdout",
     "output_type": "stream",
     "text": [
      "We've imported and installed everything we need to continue\n"
     ]
    }
   ],
   "source": [
    "# Import necessary modules and libraries\n",
    "#from skafossdk import Skafos\n",
    "from utilities.dependencies import _try_install\n",
    "\n",
    "import numpy as np\n",
    "from sklearn.linear_model import LinearRegression\n",
    "\n",
    "# Try installing coremltools\n",
    "_try_install(timeout = 300, pkg = \"coremltools==2.0\")\n",
    "\n",
    "import coremltools\n",
    "print(\"We've imported and installed everything we need to continue\")"
   ]
  },
  {
   "cell_type": "code",
   "execution_count": 2,
   "metadata": {},
   "outputs": [
    {
     "ename": "NameError",
     "evalue": "name 'Skafos' is not defined",
     "output_type": "error",
     "traceback": [
      "\u001b[0;31m---------------------------------------------------------------------------\u001b[0m",
      "\u001b[0;31mNameError\u001b[0m                                 Traceback (most recent call last)",
      "\u001b[0;32m<ipython-input-2-005852c06e9d>\u001b[0m in \u001b[0;36m<module>\u001b[0;34m\u001b[0m\n\u001b[1;32m      1\u001b[0m \u001b[0;31m# initialize Skafos\u001b[0m\u001b[0;34m\u001b[0m\u001b[0;34m\u001b[0m\u001b[0m\n\u001b[0;32m----> 2\u001b[0;31m \u001b[0mska\u001b[0m \u001b[0;34m=\u001b[0m \u001b[0mSkafos\u001b[0m\u001b[0;34m(\u001b[0m\u001b[0;34m)\u001b[0m\u001b[0;34m\u001b[0m\u001b[0m\n\u001b[0m",
      "\u001b[0;31mNameError\u001b[0m: name 'Skafos' is not defined"
     ]
    }
   ],
   "source": [
    "# initialize Skafos\n",
    "ska = Skafos()"
   ]
  },
  {
   "cell_type": "markdown",
   "metadata": {},
   "source": [
    "### **Insert your code here.**\n",
    "Your code may do one or all of the following:\n",
    "\n",
    "- Ingest data from an external source\n",
    "- Clean or re-format data for modeling\n",
    "- Build a predictive model\n",
    "- Save a model artifact for use in another application"
   ]
  },
  {
   "cell_type": "markdown",
   "metadata": {},
   "source": [
    "### **1. Load the Data**\n",
    "Here we create some fake data but you could just as easily:\n",
    "- Connect to a cloud hosted database (S3 or other)\n",
    "- Download an open-source image dataset\n",
    "- Read directly from a static .csv link.\n",
    "\n",
    "For examples of each of these, feel free to check out our other model examples linked on the README of this repo."
   ]
  },
  {
   "cell_type": "code",
   "execution_count": 3,
   "metadata": {},
   "outputs": [],
   "source": [
    "# Generate some random data\n",
    "x = np.random.normal(loc=1, scale=2, size=1000)\n",
    "\n",
    "# Generate some random errors to introduce \"noise\" in our data\n",
    "e = np.random.normal(loc=0, scale=1, size=1000)\n",
    "\n",
    "# Set our coefficient to 3\n",
    "beta = 3 \n",
    "\n",
    "# Build our response data according to the formula Y = 3 * X + error term\n",
    "y = (beta * x) + e"
   ]
  },
  {
   "cell_type": "markdown",
   "metadata": {},
   "source": [
    "### **2. Build the Model**\n",
    "We use a simple linear regression model to fit a model to the random data we created above. It is likely that your use case will use something more sophisticated. Feel free to mess around with this code or scrap it for your use case."
   ]
  },
  {
   "cell_type": "code",
   "execution_count": 4,
   "metadata": {},
   "outputs": [
    {
     "name": "stdout",
     "output_type": "stream",
     "text": [
      "In generating this data, we specified the coefficient to be 3 \n",
      "\n",
      "The model estimated the coefficient as 2.9709387091365107 \n",
      " \n"
     ]
    }
   ],
   "source": [
    "# Train a simple linear regression\n",
    "model = LinearRegression()\n",
    "\n",
    "# We \"reshape\" the x vector and train the model\n",
    "model.fit(x.reshape(-1,1), y)\n",
    "\n",
    "print(f\"In generating this data, we specified the coefficient to be {beta} \\n\")\n",
    "print(f\"The model estimated the coefficient as {model.coef_[0]} \\n \")"
   ]
  },
  {
   "cell_type": "markdown",
   "metadata": {},
   "source": [
    "### **3. Save the Model**\n",
    "Depending on your use case, you may need to save the model to a specific format. Below we show the workflow for exporting the model to a CoreML format and saving it to Skafos. "
   ]
  },
  {
   "cell_type": "code",
   "execution_count": 6,
   "metadata": {},
   "outputs": [],
   "source": [
    " # Convert and save the scikit-learn model\n",
    "coreml_model = coremltools.converters.sklearn.convert(model, ['x'], 'y')\n",
    "model_name = \"SimpleLinearRegression.mlmodel\"\n",
    "\n",
    "# Save the model and then load it so that we can save it to Skafos\n",
    "coreml_model.save(model_name) \n",
    "with open(model_name, \"rb\") as model_data:\n",
    "    model_to_save = model_data.read()\n",
    "\n",
    "# Save the model to Skafos\n",
    "ska.engine.save_model(model = model_to_save, name = model_name, access='public', tags=['v0.7']).result()"
   ]
  }
 ],
 "metadata": {
  "kernelspec": {
   "display_name": "Python 3",
   "language": "python",
   "name": "python3"
  },
  "language_info": {
   "codemirror_mode": {
    "name": "ipython",
    "version": 3
   },
   "file_extension": ".py",
   "mimetype": "text/x-python",
   "name": "python",
   "nbconvert_exporter": "python",
   "pygments_lexer": "ipython3",
   "version": "3.6.6"
  }
 },
 "nbformat": 4,
 "nbformat_minor": 2
}
