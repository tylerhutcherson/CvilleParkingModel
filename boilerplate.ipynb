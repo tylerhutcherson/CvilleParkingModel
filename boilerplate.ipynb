{
 "cells": [
  {
   "cell_type": "markdown",
   "metadata": {},
   "source": [
    "## Quickstart\n",
    "This notebook is intended to be the starting point for your project. It might be a data cleaning job or it might download some public data and start training a model.\n",
    "\n",
    "If you need some inspiration, checkout any one of our Turi Create examples in the skafos GitHub organization."
   ]
  },
  {
   "cell_type": "code",
   "execution_count": null,
   "metadata": {},
   "outputs": [],
   "source": [
    "# your dependencies might be the following\n",
    "# these will be listed in the requirements.txt file\n",
    "import pandas as pd\n",
    "import s3fs\n",
    "from skafossdk import Skafos"
   ]
  },
  {
   "cell_type": "code",
   "execution_count": null,
   "metadata": {},
   "outputs": [],
   "source": [
    "# initialize Skafos\n",
    "ska = Skafos()"
   ]
  }
 ],
 "metadata": {
  "kernelspec": {
   "display_name": "Python 3",
   "language": "python",
   "name": "python3"
  },
  "language_info": {
   "codemirror_mode": {
    "name": "ipython",
    "version": 3
   },
   "file_extension": ".py",
   "mimetype": "text/x-python",
   "name": "python",
   "nbconvert_exporter": "python",
   "pygments_lexer": "ipython3",
   "version": "3.6.6"
  }
 },
 "nbformat": 4,
 "nbformat_minor": 2
}
