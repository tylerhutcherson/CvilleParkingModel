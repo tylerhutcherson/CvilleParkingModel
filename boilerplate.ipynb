{
 "cells": [
  {
   "cell_type": "markdown",
   "metadata": {},
   "source": [
    "## **Boilerplate Notebook**\n",
    "This notebook is intended to be the starting point for your project. It might be a data cleaning job or it might download some public data and start training a model.\n",
    "\n",
    "If you need some inspiration, checkout any one of our Turi Create examples linked below:\n",
    "- [**Object Detection**](https://github.com/skafos/TuriObjectDetection) - Give your users the ability to detect objects in your app.\n",
    "- [**Image Classifier**](https://github.com/skafos/TuriImageClassifier) - Give your users the ability to classify animals, objects, etc. in the photos they take.\n",
    "- [**Image Similarity**](https://github.com/skafos/TuriImageSimilarity) - Find images similar to the photos your app's users have taken.\n",
    "- [**Style Transfer**](https://github.com/skafos/TuriStyleTransfer) - Take designs and pieces of art and transfer their style to your user's photos.\n",
    "- [**Recommender**](https://github.com/skafos/TuriRecommender) - Recommend the most relevant products or items to your users.\n",
    "- [**Activity Classifier**](https://github.com/skafos/TuriActivityClassifier) - Classify the movement and activities of your app's users.\n",
    "- [**Text Classifier**](https://github.com/skafos/TuriTextClassifier) - Classify positive and negative text in your app.\n",
    "\n",
    "\n",
    "--- \n",
    "\n",
    "Execute each cell one-by-one, by selecting the cell and do one of the following:\n",
    "\n",
    "- Clicking the \"play\" button at the top of this frame.\n",
    "- Typing 'Control + Enter' or 'Shift + Enter'."
   ]
  },
  {
   "cell_type": "code",
   "execution_count": null,
   "metadata": {},
   "outputs": [],
   "source": [
    "# Import necessary modules and libraries\n",
    "import utilities.save_models as sm\n",
    "from skafossdk import Skafos"
   ]
  },
  {
   "cell_type": "code",
   "execution_count": null,
   "metadata": {},
   "outputs": [],
   "source": [
    "# initialize Skafos\n",
    "ska = Skafos()"
   ]
  },
  {
   "cell_type": "code",
   "execution_count": null,
   "metadata": {},
   "outputs": [],
   "source": []
  }
 ],
 "metadata": {
  "kernelspec": {
   "display_name": "Python 3",
   "language": "python",
   "name": "python3"
  },
  "language_info": {
   "codemirror_mode": {
    "name": "ipython",
    "version": 3
   },
   "file_extension": ".py",
   "mimetype": "text/x-python",
   "name": "python",
   "nbconvert_exporter": "python",
   "pygments_lexer": "ipython3",
   "version": "3.6.6"
  }
 },
 "nbformat": 4,
 "nbformat_minor": 2
}
